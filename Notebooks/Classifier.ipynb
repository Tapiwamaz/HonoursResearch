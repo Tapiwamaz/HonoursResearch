{
 "cells": [
  {
   "cell_type": "markdown",
   "id": "551a3332",
   "metadata": {},
   "source": [
    "## 2 Layer MLP\n",
    "- With hidden layer of size 64 and dropout with 0.5 probability\n",
    "- Softmax at last classification layer \n",
    "- Learning rate of 0.001\n",
    "- Over 50-100 epochs"
   ]
  },
  {
   "cell_type": "code",
   "execution_count": 1,
   "id": "5a4af7d2",
   "metadata": {},
   "outputs": [
    {
     "name": "stderr",
     "output_type": "stream",
     "text": [
      "2025-10-01 13:41:57.563278: I external/local_xla/xla/tsl/cuda/cudart_stub.cc:31] Could not find cuda drivers on your machine, GPU will not be used.\n",
      "2025-10-01 13:41:57.605960: I tensorflow/core/platform/cpu_feature_guard.cc:210] This TensorFlow binary is optimized to use available CPU instructions in performance-critical operations.\n",
      "To enable the following instructions: AVX2 FMA, in other operations, rebuild TensorFlow with the appropriate compiler flags.\n",
      "2025-10-01 13:41:58.587883: I external/local_xla/xla/tsl/cuda/cudart_stub.cc:31] Could not find cuda drivers on your machine, GPU will not be used.\n",
      "2025-10-01 13:41:59.690050: E external/local_xla/xla/stream_executor/cuda/cuda_platform.cc:51] failed call to cuInit: INTERNAL: CUDA error: Failed call to cuInit: UNKNOWN ERROR (303)\n",
      "2025-10-01 13:41:59.706074: W external/local_xla/xla/tsl/framework/cpu_allocator_impl.cc:84] Allocation of 539992000 exceeds 10% of free system memory.\n",
      "2025-10-01 13:41:59.807310: W external/local_xla/xla/tsl/framework/cpu_allocator_impl.cc:84] Allocation of 539992000 exceeds 10% of free system memory.\n",
      "2025-10-01 13:41:59.878727: W external/local_xla/xla/tsl/framework/cpu_allocator_impl.cc:84] Allocation of 539992000 exceeds 10% of free system memory.\n",
      "2025-10-01 13:42:00.726666: W external/local_xla/xla/tsl/framework/cpu_allocator_impl.cc:84] Allocation of 539992000 exceeds 10% of free system memory.\n"
     ]
    },
    {
     "name": "stdout",
     "output_type": "stream",
     "text": [
      "(3274, 67499)\n"
     ]
    }
   ],
   "source": [
    "import numpy as np\n",
    "import tensorflow as tf\n",
    "import argparse\n",
    "import os\n",
    "from sklearn.model_selection import train_test_split\n",
    "from tensorflow.keras import layers\n",
    "from tensorflow.keras.models import Model, load_model\n",
    "from tensorflow.keras.callbacks import EarlyStopping\n",
    "from sklearn.metrics import mean_squared_error, root_mean_squared_error, mean_absolute_error\n",
    "import math\n",
    "# import wandb\n",
    "# from wandb.integration.keras.callbacks import WandbMetricsLogger, WandbModelCheckpoint\n",
    "\n",
    "\n",
    "encoder = load_model(\"../Models/Decoder/encoder_classifier.keras\")\n",
    "X = np.load(\"../Data/LPS/sal-lps-150-1500(labeled)_data.npy\")\n",
    "Y = np.load(\"../Data/LPS/sal-lps-150-1500(labeled)_labels.npy\")\n",
    "# X = np.load(\"../Data/LPS/sal-lps-150-1500(labeled)_fulltest_data.npy\")\n",
    "# Y = np.load(\"../Data/LPS/sal-lps-150-1500(labeled)_fulltest_labels.npy\")\n",
    "print(X.shape)\n"
   ]
  },
  {
   "cell_type": "code",
   "execution_count": 2,
   "id": "f4dace2f",
   "metadata": {},
   "outputs": [],
   "source": [
    "lr_schedule = tf.keras.optimizers.schedules.ExponentialDecay(\n",
    "    initial_learning_rate=0.0015,\n",
    "    decay_steps=500,\n",
    "    decay_rate=0.96,\n",
    "    staircase=True\n",
    ")"
   ]
  },
  {
   "cell_type": "code",
   "execution_count": 3,
   "id": "fba1da92",
   "metadata": {},
   "outputs": [],
   "source": [
    "# wandb.init(\n",
    "\n",
    "#     project=\"Classifier Tuning\",\n",
    "\n",
    "#     # track hyperparameters and run metadata with wandb.config\n",
    "#     config={\n",
    "#         \"hidden_size\": 64,\n",
    "#         \"activation_1\": \"tanh\",\n",
    "#         \"dropout\": 0.5,\n",
    "#         \"output_size\": 2,\n",
    "#         \"output_activation\": \"softmax\",\n",
    "#         \"optimizer\": \"adam\",\n",
    "#         \"learning_rate\": lr_schedule,\n",
    "#         \"loss\": \"sparse_categorical_crossentropy\",\n",
    "#         \"metric\": \"accuracy\",\n",
    "#         \"epochs\": 50,\n",
    "#         \"batch_size\": 32\n",
    "#     }\n",
    "# )\n",
    "\n",
    "# config = wandb.config"
   ]
  },
  {
   "cell_type": "code",
   "execution_count": 3,
   "id": "27d5692a",
   "metadata": {},
   "outputs": [],
   "source": [
    "class MLPClassifier(tf.keras.Model):\n",
    "    def __init__(self, encoder, num_classes=2, hidden_size=64, dropout_rate=0.5, freeze_encoder=True):\n",
    "        super().__init__()\n",
    "        self.encoder = encoder\n",
    "        # freeze encoder if requested\n",
    "        self.encoder.trainable = not freeze_encoder\n",
    "        self.hidden = layers.Dense(hidden_size, activation='tanh')\n",
    "        self.dropout = layers.Dropout(dropout_rate)\n",
    "        self.classifier = layers.Dense(num_classes, activation='softmax')\n",
    "\n",
    "    def call(self, inputs, training=True):\n",
    "        x = self.encoder(inputs, training=training)   # pass through encoder\n",
    "        x = self.hidden(x)\n",
    "        x = self.dropout(x, training=training)\n",
    "        return self.classifier(x)"
   ]
  },
  {
   "cell_type": "code",
   "execution_count": 4,
   "id": "9b3a95e4",
   "metadata": {},
   "outputs": [],
   "source": [
    "# Split into train (80%), val (20%) and test (20%) \n",
    "X_train, X_val, y_train, y_val= train_test_split(X, Y, test_size=0.2, random_state=42, stratify=Y)\n",
    "del X\n",
    "# X_val, X_test, y_val, y_test = train_test_split(X_temp, y_temp, test_size=2/3, random_state=42, stratify=y_temp)"
   ]
  },
  {
   "cell_type": "code",
   "execution_count": 5,
   "id": "5f476955",
   "metadata": {},
   "outputs": [
    {
     "name": "stdout",
     "output_type": "stream",
     "text": [
      "Training data shape: (2619, 67499)\n",
      "Val data shape: (655, 67499)\n"
     ]
    }
   ],
   "source": [
    "print(f'Training data shape: {X_train.shape}')\n",
    "print(f'Val data shape: {X_val.shape}')\n",
    "# print(f'Test data shape: {X_test.shape}')\n"
   ]
  },
  {
   "cell_type": "code",
   "execution_count": 6,
   "id": "a3e66d3a",
   "metadata": {},
   "outputs": [
    {
     "ename": "",
     "evalue": "",
     "output_type": "error",
     "traceback": [
      "\u001b[1;31mThe Kernel crashed while executing code in the current cell or a previous cell. \n",
      "\u001b[1;31mPlease review the code in the cell(s) to identify a possible cause of the failure. \n",
      "\u001b[1;31mClick <a href='https://aka.ms/vscodeJupyterKernelCrash'>here</a> for more info. \n",
      "\u001b[1;31mView Jupyter <a href='command:jupyter.viewOutput'>log</a> for further details."
     ]
    }
   ],
   "source": [
    "model = MLPClassifier(encoder, hidden_size=64, dropout_rate=0.5, freeze_encoder=True)\n",
    "\n",
    "early_stopping = EarlyStopping(\n",
    "    monitor='accuracy',\n",
    "    patience=4,\n",
    "    restore_best_weights=True\n",
    ")\n",
    "\n",
    "\n",
    "\n",
    "model.compile(optimizer=tf.keras.optimizers.Adam(learning_rate=lr_schedule),\n",
    "              loss='sparse_categorical_crossentropy',\n",
    "              metrics=['accuracy'],\n",
    "            )\n",
    "\n",
    "print(\"Training started....\")\n",
    "history = model.fit(\n",
    "    X_train, y_train,\n",
    "    epochs=50, batch_size=32,    \n",
    "    validation_data=(X_val, y_val), \n",
    "    verbose=1,\n",
    "    callbacks=[early_stopping,\n",
    "            #    WandbMetricsLogger(),\n",
    "            #    WandbModelCheckpoint(\"models.keras\",save_best_only=True,monitor='accuracy')\n",
    "               ]\n",
    ")\n",
    "# wandb.finish()\n",
    "print(\"Training completed!\")\n"
   ]
  },
  {
   "cell_type": "code",
   "execution_count": null,
   "id": "3f79d2c5",
   "metadata": {},
   "outputs": [
    {
     "data": {
      "text/html": [
       "<pre style=\"white-space:pre;overflow-x:auto;line-height:normal;font-family:Menlo,'DejaVu Sans Mono',consolas,'Courier New',monospace\"><span style=\"font-weight: bold\">Model: \"sequential\"</span>\n",
       "</pre>\n"
      ],
      "text/plain": [
       "\u001b[1mModel: \"sequential\"\u001b[0m\n"
      ]
     },
     "metadata": {},
     "output_type": "display_data"
    },
    {
     "data": {
      "text/html": [
       "<pre style=\"white-space:pre;overflow-x:auto;line-height:normal;font-family:Menlo,'DejaVu Sans Mono',consolas,'Courier New',monospace\">┏━━━━━━━━━━━━━━━━━━━━━━━━━━━━━━━━━┳━━━━━━━━━━━━━━━━━━━━━━━━┳━━━━━━━━━━━━━━━┓\n",
       "┃<span style=\"font-weight: bold\"> Layer (type)                    </span>┃<span style=\"font-weight: bold\"> Output Shape           </span>┃<span style=\"font-weight: bold\">       Param # </span>┃\n",
       "┡━━━━━━━━━━━━━━━━━━━━━━━━━━━━━━━━━╇━━━━━━━━━━━━━━━━━━━━━━━━╇━━━━━━━━━━━━━━━┩\n",
       "│ dense (<span style=\"color: #0087ff; text-decoration-color: #0087ff\">Dense</span>)                   │ (<span style=\"color: #00d7ff; text-decoration-color: #00d7ff\">None</span>, <span style=\"color: #00af00; text-decoration-color: #00af00\">64</span>)             │        <span style=\"color: #00af00; text-decoration-color: #00af00\">16,064</span> │\n",
       "├─────────────────────────────────┼────────────────────────┼───────────────┤\n",
       "│ dropout (<span style=\"color: #0087ff; text-decoration-color: #0087ff\">Dropout</span>)               │ (<span style=\"color: #00d7ff; text-decoration-color: #00d7ff\">None</span>, <span style=\"color: #00af00; text-decoration-color: #00af00\">64</span>)             │             <span style=\"color: #00af00; text-decoration-color: #00af00\">0</span> │\n",
       "├─────────────────────────────────┼────────────────────────┼───────────────┤\n",
       "│ dense_1 (<span style=\"color: #0087ff; text-decoration-color: #0087ff\">Dense</span>)                 │ (<span style=\"color: #00d7ff; text-decoration-color: #00d7ff\">None</span>, <span style=\"color: #00af00; text-decoration-color: #00af00\">2</span>)              │           <span style=\"color: #00af00; text-decoration-color: #00af00\">130</span> │\n",
       "└─────────────────────────────────┴────────────────────────┴───────────────┘\n",
       "</pre>\n"
      ],
      "text/plain": [
       "┏━━━━━━━━━━━━━━━━━━━━━━━━━━━━━━━━━┳━━━━━━━━━━━━━━━━━━━━━━━━┳━━━━━━━━━━━━━━━┓\n",
       "┃\u001b[1m \u001b[0m\u001b[1mLayer (type)                   \u001b[0m\u001b[1m \u001b[0m┃\u001b[1m \u001b[0m\u001b[1mOutput Shape          \u001b[0m\u001b[1m \u001b[0m┃\u001b[1m \u001b[0m\u001b[1m      Param #\u001b[0m\u001b[1m \u001b[0m┃\n",
       "┡━━━━━━━━━━━━━━━━━━━━━━━━━━━━━━━━━╇━━━━━━━━━━━━━━━━━━━━━━━━╇━━━━━━━━━━━━━━━┩\n",
       "│ dense (\u001b[38;5;33mDense\u001b[0m)                   │ (\u001b[38;5;45mNone\u001b[0m, \u001b[38;5;34m64\u001b[0m)             │        \u001b[38;5;34m16,064\u001b[0m │\n",
       "├─────────────────────────────────┼────────────────────────┼───────────────┤\n",
       "│ dropout (\u001b[38;5;33mDropout\u001b[0m)               │ (\u001b[38;5;45mNone\u001b[0m, \u001b[38;5;34m64\u001b[0m)             │             \u001b[38;5;34m0\u001b[0m │\n",
       "├─────────────────────────────────┼────────────────────────┼───────────────┤\n",
       "│ dense_1 (\u001b[38;5;33mDense\u001b[0m)                 │ (\u001b[38;5;45mNone\u001b[0m, \u001b[38;5;34m2\u001b[0m)              │           \u001b[38;5;34m130\u001b[0m │\n",
       "└─────────────────────────────────┴────────────────────────┴───────────────┘\n"
      ]
     },
     "metadata": {},
     "output_type": "display_data"
    },
    {
     "data": {
      "text/html": [
       "<pre style=\"white-space:pre;overflow-x:auto;line-height:normal;font-family:Menlo,'DejaVu Sans Mono',consolas,'Courier New',monospace\"><span style=\"font-weight: bold\"> Total params: </span><span style=\"color: #00af00; text-decoration-color: #00af00\">16,194</span> (63.26 KB)\n",
       "</pre>\n"
      ],
      "text/plain": [
       "\u001b[1m Total params: \u001b[0m\u001b[38;5;34m16,194\u001b[0m (63.26 KB)\n"
      ]
     },
     "metadata": {},
     "output_type": "display_data"
    },
    {
     "data": {
      "text/html": [
       "<pre style=\"white-space:pre;overflow-x:auto;line-height:normal;font-family:Menlo,'DejaVu Sans Mono',consolas,'Courier New',monospace\"><span style=\"font-weight: bold\"> Trainable params: </span><span style=\"color: #00af00; text-decoration-color: #00af00\">16,194</span> (63.26 KB)\n",
       "</pre>\n"
      ],
      "text/plain": [
       "\u001b[1m Trainable params: \u001b[0m\u001b[38;5;34m16,194\u001b[0m (63.26 KB)\n"
      ]
     },
     "metadata": {},
     "output_type": "display_data"
    },
    {
     "data": {
      "text/html": [
       "<pre style=\"white-space:pre;overflow-x:auto;line-height:normal;font-family:Menlo,'DejaVu Sans Mono',consolas,'Courier New',monospace\"><span style=\"font-weight: bold\"> Non-trainable params: </span><span style=\"color: #00af00; text-decoration-color: #00af00\">0</span> (0.00 B)\n",
       "</pre>\n"
      ],
      "text/plain": [
       "\u001b[1m Non-trainable params: \u001b[0m\u001b[38;5;34m0\u001b[0m (0.00 B)\n"
      ]
     },
     "metadata": {},
     "output_type": "display_data"
    }
   ],
   "source": [
    "model.classifier.summary()"
   ]
  },
  {
   "cell_type": "code",
   "execution_count": null,
   "id": "a8a0c53d",
   "metadata": {},
   "outputs": [
    {
     "name": "stdout",
     "output_type": "stream",
     "text": [
      "\u001b[1m21/21\u001b[0m \u001b[32m━━━━━━━━━━━━━━━━━━━━\u001b[0m\u001b[37m\u001b[0m \u001b[1m0s\u001b[0m 1ms/step - accuracy: 0.9511 - loss: 0.1142 \n",
      "\u001b[1m21/21\u001b[0m \u001b[32m━━━━━━━━━━━━━━━━━━━━\u001b[0m\u001b[37m\u001b[0m \u001b[1m0s\u001b[0m 2ms/step \n",
      "TN: 304, FP: 23, FN: 9, TP: 319\n",
      "AUC: 0.9924386514507347\n"
     ]
    },
    {
     "data": {
      "image/png": "[encoded data removed]",
      "text/plain": [
       "<Figure size 640x480 with 1 Axes>"
      ]
     },
     "metadata": {},
     "output_type": "display_data"
    },
    {
     "data": {
      "image/png": "[encoded data removed]",
      "text/plain": [
       "<Figure size 640x480 with 2 Axes>"
      ]
     },
     "metadata": {},
     "output_type": "display_data"
    },
    {
     "name": "stdout",
     "output_type": "stream",
     "text": [
      "Test loss: 0.11420643329620361\n",
      "Test Accuracy 0.9511450529098511\n",
      "Precision: 0.9327\n",
      "Recall (Sensitivity/TPR): 0.9726\n",
      "Specificity (TNR): 0.9297\n",
      "F1-Score: 0.9522\n",
      "False Positive Rate (FPR): 0.0703\n",
      "False Negative Rate (FNR): 0.0274\n",
      "Negative Predictive Value (NPV): 0.9712\n"
     ]
    }
   ],
   "source": [
    "from sklearn.metrics import confusion_matrix, roc_auc_score, roc_curve, ConfusionMatrixDisplay,precision_score,recall_score,f1_score\n",
    "\n",
    "loss, accuracy = model.evaluate(X_val, y_val)\n",
    "\n",
    "y_pred_probs = model.predict(X_val)\n",
    "y_pred = np.argmax(y_pred_probs, axis=1)\n",
    "\n",
    "\n",
    "cm = confusion_matrix(y_val, y_pred)\n",
    "tn, fp, fn, tp = cm.ravel()\n",
    "print(f'TN: {tn}, FP: {fp}, FN: {fn}, TP: {tp}')\n",
    "\n",
    "if len(np.unique(y_val)) == 2:\n",
    "    auc = roc_auc_score(y_val, y_pred_probs[:, 1])\n",
    "    print(f'AUC: {auc}')\n",
    "    fpr, tpr, thresholds = roc_curve(y_val, y_pred_probs[:, 1])\n",
    "    import matplotlib.pyplot as plt\n",
    "    plt.plot(fpr, tpr, label=f'AUC = {auc:.2f}')\n",
    "    plt.xlabel('False Positive Rate')\n",
    "    plt.ylabel('True Positive Rate')\n",
    "    plt.title('ROC Curve')\n",
    "    plt.legend()\n",
    "    plt.show()\n",
    "\n",
    "# Confusion matrix plot\n",
    "disp = ConfusionMatrixDisplay(confusion_matrix=cm)\n",
    "disp.plot()\n",
    "plt.show()\n",
    "print(f'Test loss: {loss}')\n",
    "print(f'Test Accuracy {accuracy}')\n",
    "precision = precision_score(y_val, y_pred)\n",
    "recall = recall_score(y_val, y_pred)\n",
    "f1 = f1_score(y_val, y_pred)\n",
    "specificity = tn / (tn + fp)\n",
    "false_positive_rate = fp / (fp + tn)\n",
    "false_negative_rate = fn / (fn + tp)\n",
    "true_positive_rate = tp / (tp + fn)  # Same as recall/sensitivity\n",
    "negative_predictive_value = tn / (tn + fn)\n",
    "\n",
    "print(f'Precision: {precision:.4f}')\n",
    "print(f'Recall (Sensitivity/TPR): {recall:.4f}')\n",
    "print(f'Specificity (TNR): {specificity:.4f}')\n",
    "print(f'F1-Score: {f1:.4f}')\n",
    "print(f'False Positive Rate (FPR): {false_positive_rate:.4f}')\n",
    "print(f'False Negative Rate (FNR): {false_negative_rate:.4f}')\n",
    "print(f'Negative Predictive Value (NPV): {negative_predictive_value:.4f}')"
   ]
  },
  {
   "cell_type": "code",
   "execution_count": null,
   "id": "315e4a08",
   "metadata": {},
   "outputs": [],
   "source": []
  },
  {
   "cell_type": "code",
   "execution_count": null,
   "id": "389fed8d",
   "metadata": {},
   "outputs": [],
   "source": [
    "model.encoder.classifier.save(filepath=\"../Models/Decoder/encoder_classifier.keras\")"
   ]
  }
 ],
 "metadata": {
  "kernelspec": {
   "display_name": "base",
   "language": "python",
   "name": "python3"
  },
  "language_info": {
   "codemirror_mode": {
    "name": "ipython",
    "version": 3
   },
   "file_extension": ".py",
   "mimetype": "text/x-python",
   "name": "python",
   "nbconvert_exporter": "python",
   "pygments_lexer": "ipython3",
   "version": "3.12.7"
  }
 },
 "nbformat": 4,
 "nbformat_minor": 5
}
