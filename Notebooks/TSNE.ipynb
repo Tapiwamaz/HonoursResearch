{
 "cells": [
  {
   "cell_type": "code",
   "execution_count": 2,
   "id": "f0ca32ce",
   "metadata": {},
   "outputs": [
    {
     "name": "stdout",
     "output_type": "stream",
     "text": [
      "Shape: (160000, 200)\n"
     ]
    }
   ],
   "source": [
    "# from tensorflow.keras.models import load_model\n",
    "import numpy as np\n",
    "import matplotlib.pyplot as plt\n",
    "from sklearn.manifold import TSNE\n",
    "\n",
    "# encoder = load_model(\"../Models/encoder_250_dropout_wmse.keras\")\n",
    "# print(f\"Loaded encoder\")\n",
    "X = np.load(\"../EncodedData/cancer-nmf-data.npy\",mmap_mode=\"r\")\n",
    "print(f\"Shape: {X.shape}\")"
   ]
  },
  {
   "cell_type": "code",
   "execution_count": null,
   "id": "89031bf0",
   "metadata": {},
   "outputs": [],
   "source": [
    "from sklearn.preprocessing import StandardScaler\n",
    "\n",
    "# 2. Subsample if necessary\n",
    "n_samples = len(X)  # Try increasing sample size if possible\n",
    "indices = np.random.permutation(X.shape[0])[:n_samples]\n",
    "latent_subset = X[indices]\n",
    "\n",
    "# 3. Scale latent vectors\n",
    "scaler = StandardScaler()\n",
    "latent_subset_scaled = scaler.fit_transform(latent_subset)\n",
    "\n",
    "# 4. Perform t-SNE\n",
    "tsne = TSNE(n_components=2, perplexity=100, max_iter=2000,random_state=42)\n",
    "latent_tsne = tsne.fit_transform(latent_subset_scaled)\n",
    "\n"
   ]
  },
  {
   "cell_type": "code",
   "execution_count": null,
   "id": "0998b471",
   "metadata": {},
   "outputs": [],
   "source": [
    "# 5. Visualize\n",
    "coords = np.load(\"../Data/Cancer/cancer-150-1500-h5-coords.npy\", mmap_mode=\"r\")\n",
    "coords_subset = coords[indices]\n",
    "\n",
    "plt.figure(figsize=(10, 8))\n",
    "scatter = plt.scatter(latent_tsne[:, 0], latent_tsne[:, 1],\n",
    "                      c=coords_subset[:, 0], alpha=0.6, s=10, cmap='viridis')\n",
    "plt.colorbar(scatter, label='Spatial X-coordinate')\n",
    "plt.title('t-SNE of Latent Space Colored by Spatial Location')\n",
    "plt.xlabel('t-SNE 1')\n",
    "plt.ylabel('t-SNE 2')\n",
    "plt.show()"
   ]
  }
 ],
 "metadata": {
  "kernelspec": {
   "display_name": "base",
   "language": "python",
   "name": "python3"
  },
  "language_info": {
   "codemirror_mode": {
    "name": "ipython",
    "version": 3
   },
   "file_extension": ".py",
   "mimetype": "text/x-python",
   "name": "python",
   "nbconvert_exporter": "python",
   "pygments_lexer": "ipython3",
   "version": "3.12.7"
  }
 },
 "nbformat": 4,
 "nbformat_minor": 5
}
