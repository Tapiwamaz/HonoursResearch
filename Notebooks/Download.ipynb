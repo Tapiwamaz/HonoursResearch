{
 "cells": [
  {
   "cell_type": "markdown",
   "id": "a26df45f",
   "metadata": {},
   "source": [
    "# Downloading from the remote machine"
   ]
  },
  {
   "cell_type": "code",
   "execution_count": 2,
   "id": "f305c687",
   "metadata": {},
   "outputs": [
    {
     "name": "stdout",
     "output_type": "stream",
     "text": [
      "Files downloaded successfully!\n"
     ]
    }
   ],
   "source": [
    "import paramiko\n",
    "import os\n",
    "\n",
    "# SSH/SFTP Connection\n",
    "ssh = paramiko.SSHClient()\n",
    "ssh.set_missing_host_key_policy(paramiko.AutoAddPolicy())\n",
    "ssh.connect(\n",
    "    hostname='146.141.21.100',  # Replace with remote machine IP/hostname\n",
    "    username='tmazarura',\n",
    "    password='TWgEfeET',  \n",
    ")\n",
    "\n",
    "# Open SFTP session\n",
    "sftp = ssh.open_sftp()\n",
    "\n",
    "remote_npy = r'HonoursResearch/Data/Pretrain/sal-lps-150-1500(labeled)_labels.npy'\n",
    "local_npy = \"../Data/LPS/sal-lps-150-1500(labeled)_labels.npy\"\n",
    "sftp.get(remote_npy, local_npy)\n",
    "remote_npy = r'HonoursResearch/Data/Pretrain/sal-lps-150-1500(labeled)_data.npy'\n",
    "local_npy = \"../Data/LPS/sal-lps-150-1500(labeled)_data.npy\"\n",
    "sftp.get(remote_npy, local_npy)\n",
    "\n",
    "\n",
    "\n",
    "# remote_HIVOG_npy = r'HonoursResearch/src//HIV_OG_Normalized.npy'\n",
    "# remote_MZ_npy = r'HonoursResearch/src//HIV_Common_mzs.npy'\n",
    "\n",
    "# remote_h5 = r'mass_spec_data/HIV/3 June/3 June PHRU FFPE test 1_1-115501_SN0p0_profile.h5'\n",
    "\n",
    "# Define remote and local paths (using raw strings to handle spaces properly)\n",
    "# remote_imzml = r'mass_spec_data/HIV/3 June/3 June PHRU FFPE test 1_1-115501_SN0p0_1-56679_SN1p0_centroid.imzml'\n",
    "# remote_ibd = r'mass_spec_data/HIV/3 June/3 June PHRU FFPE test 1_1-115501_SN0p0_1-56679_SN1p0_centroid.ibd'\n",
    "# remote_h5 = r'mass_spec_data/HIV/3 June/3 June PHRU FFPE test 1_1-115501_SN0p0_profile.h5'\n",
    "\n",
    "# local_imzml = 'HIV.imzml'\n",
    "# local_ibd = 'HIV.ibd'\n",
    "# local_h5 = 'HIV.h5'\n",
    "\n",
    "# remote_imzml = r'mass_spec_data/Cancer biopsy/5 June/5 June tumour test 2_1-327482_SN0p0_1-160000_SN1p0_centroid.imzml'\n",
    "# remote_ibd = r'mass_spec_data/Cancer biopsy/5 June/5 June tumour test 2_1-327482_SN0p0_1-160000_SN1p0_centroid.ibd'\n",
    "# local_imzml = 'Cancer.imzml'\n",
    "# local_ibd = 'Cancer.ibd'\n",
    "\n",
    "\n",
    "# remote_h5 = r'mass_spec_data/Cancer biopsy/5 June/5 June tumour test 2_1-327482_SN0p0_profile.h5'\n",
    "# local_h5 = 'Cancer.h5'\n",
    "\n",
    "# Download files\n",
    "# sftp.get(remote_imzml, local_imzml)\n",
    "# sftp.get(remote_ibd, local_ibd)\n",
    "# sftp.get(remote_h5,local_h5)\n",
    "\n",
    "# remote_npy = r'HonoursResearch/Models/AE/ae_encoder_mixed.keras'\n",
    "# local_npy = '../Models/ae_encoder_mixed.keras'\n",
    "\n",
    "remote_npy = r'HonoursResearch/Models/NMF/hiv-cancer_nmf_model.joblib'\n",
    "local_npy = '../Models/hiv-cancer_nmf_model.joblib'\n",
    "sftp.get(remote_npy, local_npy)\n",
    "sftp.close()\n",
    "ssh.close()\n",
    "\n",
    "print(\"Files downloaded successfully!\")"
   ]
  },
  {
   "cell_type": "code",
   "execution_count": null,
   "id": "e4555128",
   "metadata": {},
   "outputs": [],
   "source": []
  }
 ],
 "metadata": {
  "kernelspec": {
   "display_name": "base",
   "language": "python",
   "name": "python3"
  },
  "language_info": {
   "codemirror_mode": {
    "name": "ipython",
    "version": 3
   },
   "file_extension": ".py",
   "mimetype": "text/x-python",
   "name": "python",
   "nbconvert_exporter": "python",
   "pygments_lexer": "ipython3",
   "version": "3.12.7"
  }
 },
 "nbformat": 4,
 "nbformat_minor": 5
}
