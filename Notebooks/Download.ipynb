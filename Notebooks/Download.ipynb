{
 "cells": [
  {
   "cell_type": "markdown",
   "id": "a26df45f",
   "metadata": {},
   "source": [
    "# Downloading from the remote machine"
   ]
  },
  {
   "cell_type": "code",
   "execution_count": 1,
   "id": "f305c687",
   "metadata": {},
   "outputs": [
    {
     "ename": "SFTPError",
     "evalue": "Garbage packet received",
     "output_type": "error",
     "traceback": [
      "\u001b[1;31m---------------------------------------------------------------------------\u001b[0m",
      "\u001b[1;31mKeyboardInterrupt\u001b[0m                         Traceback (most recent call last)",
      "File \u001b[1;32mc:\\Users\\mazar\\AppData\\Local\\Programs\\Python\\Python312\\Lib\\site-packages\\paramiko\\sftp_client.py:799\u001b[0m, in \u001b[0;36mSFTPClient.getfo\u001b[1;34m(self, remotepath, fl, callback, prefetch, max_concurrent_prefetch_requests)\u001b[0m\n\u001b[0;32m    798\u001b[0m     fr\u001b[38;5;241m.\u001b[39mprefetch(file_size, max_concurrent_prefetch_requests)\n\u001b[1;32m--> 799\u001b[0m \u001b[38;5;28;01mreturn\u001b[39;00m \u001b[38;5;28;43mself\u001b[39;49m\u001b[38;5;241;43m.\u001b[39;49m\u001b[43m_transfer_with_callback\u001b[49m\u001b[43m(\u001b[49m\n\u001b[0;32m    800\u001b[0m \u001b[43m    \u001b[49m\u001b[43mreader\u001b[49m\u001b[38;5;241;43m=\u001b[39;49m\u001b[43mfr\u001b[49m\u001b[43m,\u001b[49m\u001b[43m \u001b[49m\u001b[43mwriter\u001b[49m\u001b[38;5;241;43m=\u001b[39;49m\u001b[43mfl\u001b[49m\u001b[43m,\u001b[49m\u001b[43m \u001b[49m\u001b[43mfile_size\u001b[49m\u001b[38;5;241;43m=\u001b[39;49m\u001b[43mfile_size\u001b[49m\u001b[43m,\u001b[49m\u001b[43m \u001b[49m\u001b[43mcallback\u001b[49m\u001b[38;5;241;43m=\u001b[39;49m\u001b[43mcallback\u001b[49m\n\u001b[0;32m    801\u001b[0m \u001b[43m\u001b[49m\u001b[43m)\u001b[49m\n",
      "File \u001b[1;32mc:\\Users\\mazar\\AppData\\Local\\Programs\\Python\\Python312\\Lib\\site-packages\\paramiko\\sftp_client.py:678\u001b[0m, in \u001b[0;36mSFTPClient._transfer_with_callback\u001b[1;34m(self, reader, writer, file_size, callback)\u001b[0m\n\u001b[0;32m    677\u001b[0m \u001b[38;5;28;01mwhile\u001b[39;00m \u001b[38;5;28;01mTrue\u001b[39;00m:\n\u001b[1;32m--> 678\u001b[0m     data \u001b[38;5;241m=\u001b[39m \u001b[43mreader\u001b[49m\u001b[38;5;241;43m.\u001b[39;49m\u001b[43mread\u001b[49m\u001b[43m(\u001b[49m\u001b[38;5;241;43m32768\u001b[39;49m\u001b[43m)\u001b[49m\n\u001b[0;32m    679\u001b[0m     writer\u001b[38;5;241m.\u001b[39mwrite(data)\n",
      "File \u001b[1;32mc:\\Users\\mazar\\AppData\\Local\\Programs\\Python\\Python312\\Lib\\site-packages\\paramiko\\file.py:203\u001b[0m, in \u001b[0;36mBufferedFile.read\u001b[1;34m(self, size)\u001b[0m\n\u001b[0;32m    202\u001b[0m \u001b[38;5;28;01mtry\u001b[39;00m:\n\u001b[1;32m--> 203\u001b[0m     new_data \u001b[38;5;241m=\u001b[39m \u001b[38;5;28;43mself\u001b[39;49m\u001b[38;5;241;43m.\u001b[39;49m\u001b[43m_read\u001b[49m\u001b[43m(\u001b[49m\u001b[43mread_size\u001b[49m\u001b[43m)\u001b[49m\n\u001b[0;32m    204\u001b[0m \u001b[38;5;28;01mexcept\u001b[39;00m \u001b[38;5;167;01mEOFError\u001b[39;00m:\n",
      "File \u001b[1;32mc:\\Users\\mazar\\AppData\\Local\\Programs\\Python\\Python312\\Lib\\site-packages\\paramiko\\sftp_file.py:182\u001b[0m, in \u001b[0;36mSFTPFile._read\u001b[1;34m(self, size)\u001b[0m\n\u001b[0;32m    181\u001b[0m \u001b[38;5;28;01mif\u001b[39;00m \u001b[38;5;28mself\u001b[39m\u001b[38;5;241m.\u001b[39m_prefetching:\n\u001b[1;32m--> 182\u001b[0m     data \u001b[38;5;241m=\u001b[39m \u001b[38;5;28;43mself\u001b[39;49m\u001b[38;5;241;43m.\u001b[39;49m\u001b[43m_read_prefetch\u001b[49m\u001b[43m(\u001b[49m\u001b[43msize\u001b[49m\u001b[43m)\u001b[49m\n\u001b[0;32m    183\u001b[0m     \u001b[38;5;28;01mif\u001b[39;00m data \u001b[38;5;129;01mis\u001b[39;00m \u001b[38;5;129;01mnot\u001b[39;00m \u001b[38;5;28;01mNone\u001b[39;00m:\n",
      "File \u001b[1;32mc:\\Users\\mazar\\AppData\\Local\\Programs\\Python\\Python312\\Lib\\site-packages\\paramiko\\sftp_file.py:162\u001b[0m, in \u001b[0;36mSFTPFile._read_prefetch\u001b[1;34m(self, size)\u001b[0m\n\u001b[0;32m    161\u001b[0m     \u001b[38;5;28;01mbreak\u001b[39;00m\n\u001b[1;32m--> 162\u001b[0m \u001b[38;5;28;43mself\u001b[39;49m\u001b[38;5;241;43m.\u001b[39;49m\u001b[43msftp\u001b[49m\u001b[38;5;241;43m.\u001b[39;49m\u001b[43m_read_response\u001b[49m\u001b[43m(\u001b[49m\u001b[43m)\u001b[49m\n\u001b[0;32m    163\u001b[0m \u001b[38;5;28mself\u001b[39m\u001b[38;5;241m.\u001b[39m_check_exception()\n",
      "File \u001b[1;32mc:\\Users\\mazar\\AppData\\Local\\Programs\\Python\\Python312\\Lib\\site-packages\\paramiko\\sftp_client.py:887\u001b[0m, in \u001b[0;36mSFTPClient._read_response\u001b[1;34m(self, waitfor)\u001b[0m\n\u001b[0;32m    886\u001b[0m \u001b[38;5;28;01mtry\u001b[39;00m:\n\u001b[1;32m--> 887\u001b[0m     t, data \u001b[38;5;241m=\u001b[39m \u001b[38;5;28;43mself\u001b[39;49m\u001b[38;5;241;43m.\u001b[39;49m\u001b[43m_read_packet\u001b[49m\u001b[43m(\u001b[49m\u001b[43m)\u001b[49m\n\u001b[0;32m    888\u001b[0m \u001b[38;5;28;01mexcept\u001b[39;00m \u001b[38;5;167;01mEOFError\u001b[39;00m \u001b[38;5;28;01mas\u001b[39;00m e:\n",
      "File \u001b[1;32mc:\\Users\\mazar\\AppData\\Local\\Programs\\Python\\Python312\\Lib\\site-packages\\paramiko\\sftp.py:218\u001b[0m, in \u001b[0;36mBaseSFTP._read_packet\u001b[1;34m(self)\u001b[0m\n\u001b[0;32m    217\u001b[0m size \u001b[38;5;241m=\u001b[39m struct\u001b[38;5;241m.\u001b[39munpack(\u001b[38;5;124m\"\u001b[39m\u001b[38;5;124m>I\u001b[39m\u001b[38;5;124m\"\u001b[39m, x)[\u001b[38;5;241m0\u001b[39m]\n\u001b[1;32m--> 218\u001b[0m data \u001b[38;5;241m=\u001b[39m \u001b[38;5;28;43mself\u001b[39;49m\u001b[38;5;241;43m.\u001b[39;49m\u001b[43m_read_all\u001b[49m\u001b[43m(\u001b[49m\u001b[43msize\u001b[49m\u001b[43m)\u001b[49m\n\u001b[0;32m    219\u001b[0m \u001b[38;5;28;01mif\u001b[39;00m \u001b[38;5;28mself\u001b[39m\u001b[38;5;241m.\u001b[39multra_debug:\n",
      "File \u001b[1;32mc:\\Users\\mazar\\AppData\\Local\\Programs\\Python\\Python312\\Lib\\site-packages\\paramiko\\sftp.py:196\u001b[0m, in \u001b[0;36mBaseSFTP._read_all\u001b[1;34m(self, n)\u001b[0m\n\u001b[0;32m    195\u001b[0m \u001b[38;5;28;01melse\u001b[39;00m:\n\u001b[1;32m--> 196\u001b[0m     x \u001b[38;5;241m=\u001b[39m \u001b[38;5;28;43mself\u001b[39;49m\u001b[38;5;241;43m.\u001b[39;49m\u001b[43msock\u001b[49m\u001b[38;5;241;43m.\u001b[39;49m\u001b[43mrecv\u001b[49m\u001b[43m(\u001b[49m\u001b[43mn\u001b[49m\u001b[43m)\u001b[49m\n\u001b[0;32m    198\u001b[0m \u001b[38;5;28;01mif\u001b[39;00m \u001b[38;5;28mlen\u001b[39m(x) \u001b[38;5;241m==\u001b[39m \u001b[38;5;241m0\u001b[39m:\n",
      "File \u001b[1;32mc:\\Users\\mazar\\AppData\\Local\\Programs\\Python\\Python312\\Lib\\site-packages\\paramiko\\channel.py:697\u001b[0m, in \u001b[0;36mChannel.recv\u001b[1;34m(self, nbytes)\u001b[0m\n\u001b[0;32m    696\u001b[0m \u001b[38;5;28;01mtry\u001b[39;00m:\n\u001b[1;32m--> 697\u001b[0m     out \u001b[38;5;241m=\u001b[39m \u001b[38;5;28;43mself\u001b[39;49m\u001b[38;5;241;43m.\u001b[39;49m\u001b[43min_buffer\u001b[49m\u001b[38;5;241;43m.\u001b[39;49m\u001b[43mread\u001b[49m\u001b[43m(\u001b[49m\u001b[43mnbytes\u001b[49m\u001b[43m,\u001b[49m\u001b[43m \u001b[49m\u001b[38;5;28;43mself\u001b[39;49m\u001b[38;5;241;43m.\u001b[39;49m\u001b[43mtimeout\u001b[49m\u001b[43m)\u001b[49m\n\u001b[0;32m    698\u001b[0m \u001b[38;5;28;01mexcept\u001b[39;00m PipeTimeout:\n",
      "File \u001b[1;32mc:\\Users\\mazar\\AppData\\Local\\Programs\\Python\\Python312\\Lib\\site-packages\\paramiko\\buffered_pipe.py:150\u001b[0m, in \u001b[0;36mBufferedPipe.read\u001b[1;34m(self, nbytes, timeout)\u001b[0m\n\u001b[0;32m    149\u001b[0m then \u001b[38;5;241m=\u001b[39m time\u001b[38;5;241m.\u001b[39mtime()\n\u001b[1;32m--> 150\u001b[0m \u001b[38;5;28;43mself\u001b[39;49m\u001b[38;5;241;43m.\u001b[39;49m\u001b[43m_cv\u001b[49m\u001b[38;5;241;43m.\u001b[39;49m\u001b[43mwait\u001b[49m\u001b[43m(\u001b[49m\u001b[43mtimeout\u001b[49m\u001b[43m)\u001b[49m\n\u001b[0;32m    151\u001b[0m \u001b[38;5;28;01mif\u001b[39;00m timeout \u001b[38;5;129;01mis\u001b[39;00m \u001b[38;5;129;01mnot\u001b[39;00m \u001b[38;5;28;01mNone\u001b[39;00m:\n",
      "File \u001b[1;32mc:\\Users\\mazar\\AppData\\Local\\Programs\\Python\\Python312\\Lib\\threading.py:355\u001b[0m, in \u001b[0;36mCondition.wait\u001b[1;34m(self, timeout)\u001b[0m\n\u001b[0;32m    354\u001b[0m \u001b[38;5;28;01mif\u001b[39;00m timeout \u001b[38;5;129;01mis\u001b[39;00m \u001b[38;5;28;01mNone\u001b[39;00m:\n\u001b[1;32m--> 355\u001b[0m     \u001b[43mwaiter\u001b[49m\u001b[38;5;241;43m.\u001b[39;49m\u001b[43macquire\u001b[49m\u001b[43m(\u001b[49m\u001b[43m)\u001b[49m\n\u001b[0;32m    356\u001b[0m     gotit \u001b[38;5;241m=\u001b[39m \u001b[38;5;28;01mTrue\u001b[39;00m\n",
      "\u001b[1;31mKeyboardInterrupt\u001b[0m: ",
      "\nDuring handling of the above exception, another exception occurred:\n",
      "\u001b[1;31mSFTPError\u001b[0m                                 Traceback (most recent call last)",
      "Cell \u001b[1;32mIn[1], line 42\u001b[0m\n\u001b[0;32m     28\u001b[0m local_h5 \u001b[38;5;241m=\u001b[39m \u001b[38;5;124m'\u001b[39m\u001b[38;5;124mHIV.h5\u001b[39m\u001b[38;5;124m'\u001b[39m\n\u001b[0;32m     30\u001b[0m \u001b[38;5;66;03m# remote_imzml = r'mass_spec_data/Cancer biopsy/5 June/5 June tumour test 2_1-327482_SN0p0_1-160000_SN1p0_centroid.imzml'\u001b[39;00m\n\u001b[0;32m     31\u001b[0m \u001b[38;5;66;03m# remote_ibd = r'mass_spec_data/Cancer biopsy/5 June/5 June tumour test 2_1-327482_SN0p0_1-160000_SN1p0_centroid.ibd'\u001b[39;00m\n\u001b[0;32m     32\u001b[0m \u001b[38;5;66;03m# local_imzml = 'Cancer.imzml'\u001b[39;00m\n\u001b[1;32m   (...)\u001b[0m\n\u001b[0;32m     40\u001b[0m \u001b[38;5;66;03m# sftp.get(remote_imzml, local_imzml)\u001b[39;00m\n\u001b[0;32m     41\u001b[0m \u001b[38;5;66;03m# sftp.get(remote_ibd, local_ibd)\u001b[39;00m\n\u001b[1;32m---> 42\u001b[0m \u001b[43msftp\u001b[49m\u001b[38;5;241;43m.\u001b[39;49m\u001b[43mget\u001b[49m\u001b[43m(\u001b[49m\u001b[43mremote_h5\u001b[49m\u001b[43m,\u001b[49m\u001b[43mlocal_h5\u001b[49m\u001b[43m)\u001b[49m\n\u001b[0;32m     44\u001b[0m sftp\u001b[38;5;241m.\u001b[39mclose()\n\u001b[0;32m     45\u001b[0m ssh\u001b[38;5;241m.\u001b[39mclose()\n",
      "File \u001b[1;32mc:\\Users\\mazar\\AppData\\Local\\Programs\\Python\\Python312\\Lib\\site-packages\\paramiko\\sftp_client.py:840\u001b[0m, in \u001b[0;36mSFTPClient.get\u001b[1;34m(self, remotepath, localpath, callback, prefetch, max_concurrent_prefetch_requests)\u001b[0m\n\u001b[0;32m    811\u001b[0m \u001b[38;5;250m\u001b[39m\u001b[38;5;124;03m\"\"\"\u001b[39;00m\n\u001b[0;32m    812\u001b[0m \u001b[38;5;124;03mCopy a remote file (``remotepath``) from the SFTP server to the local\u001b[39;00m\n\u001b[0;32m    813\u001b[0m \u001b[38;5;124;03mhost as ``localpath``.  Any exception raised by operations will be\u001b[39;00m\n\u001b[1;32m   (...)\u001b[0m\n\u001b[0;32m    837\u001b[0m \u001b[38;5;124;03m    Added ``max_concurrent_prefetch_requests``.\u001b[39;00m\n\u001b[0;32m    838\u001b[0m \u001b[38;5;124;03m\"\"\"\u001b[39;00m\n\u001b[0;32m    839\u001b[0m \u001b[38;5;28;01mwith\u001b[39;00m \u001b[38;5;28mopen\u001b[39m(localpath, \u001b[38;5;124m\"\u001b[39m\u001b[38;5;124mwb\u001b[39m\u001b[38;5;124m\"\u001b[39m) \u001b[38;5;28;01mas\u001b[39;00m fl:\n\u001b[1;32m--> 840\u001b[0m     size \u001b[38;5;241m=\u001b[39m \u001b[38;5;28;43mself\u001b[39;49m\u001b[38;5;241;43m.\u001b[39;49m\u001b[43mgetfo\u001b[49m\u001b[43m(\u001b[49m\n\u001b[0;32m    841\u001b[0m \u001b[43m        \u001b[49m\u001b[43mremotepath\u001b[49m\u001b[43m,\u001b[49m\n\u001b[0;32m    842\u001b[0m \u001b[43m        \u001b[49m\u001b[43mfl\u001b[49m\u001b[43m,\u001b[49m\n\u001b[0;32m    843\u001b[0m \u001b[43m        \u001b[49m\u001b[43mcallback\u001b[49m\u001b[43m,\u001b[49m\n\u001b[0;32m    844\u001b[0m \u001b[43m        \u001b[49m\u001b[43mprefetch\u001b[49m\u001b[43m,\u001b[49m\n\u001b[0;32m    845\u001b[0m \u001b[43m        \u001b[49m\u001b[43mmax_concurrent_prefetch_requests\u001b[49m\u001b[43m,\u001b[49m\n\u001b[0;32m    846\u001b[0m \u001b[43m    \u001b[49m\u001b[43m)\u001b[49m\n\u001b[0;32m    847\u001b[0m s \u001b[38;5;241m=\u001b[39m os\u001b[38;5;241m.\u001b[39mstat(localpath)\n\u001b[0;32m    848\u001b[0m \u001b[38;5;28;01mif\u001b[39;00m s\u001b[38;5;241m.\u001b[39mst_size \u001b[38;5;241m!=\u001b[39m size:\n",
      "File \u001b[1;32mc:\\Users\\mazar\\AppData\\Local\\Programs\\Python\\Python312\\Lib\\site-packages\\paramiko\\sftp_client.py:796\u001b[0m, in \u001b[0;36mSFTPClient.getfo\u001b[1;34m(self, remotepath, fl, callback, prefetch, max_concurrent_prefetch_requests)\u001b[0m\n\u001b[0;32m    769\u001b[0m \u001b[38;5;250m\u001b[39m\u001b[38;5;124;03m\"\"\"\u001b[39;00m\n\u001b[0;32m    770\u001b[0m \u001b[38;5;124;03mCopy a remote file (``remotepath``) from the SFTP server and write to\u001b[39;00m\n\u001b[0;32m    771\u001b[0m \u001b[38;5;124;03man open file or file-like object, ``fl``.  Any exception raised by\u001b[39;00m\n\u001b[1;32m   (...)\u001b[0m\n\u001b[0;32m    793\u001b[0m \u001b[38;5;124;03m    Added ``max_concurrent_prefetch_requests``.\u001b[39;00m\n\u001b[0;32m    794\u001b[0m \u001b[38;5;124;03m\"\"\"\u001b[39;00m\n\u001b[0;32m    795\u001b[0m file_size \u001b[38;5;241m=\u001b[39m \u001b[38;5;28mself\u001b[39m\u001b[38;5;241m.\u001b[39mstat(remotepath)\u001b[38;5;241m.\u001b[39mst_size\n\u001b[1;32m--> 796\u001b[0m \u001b[43m\u001b[49m\u001b[38;5;28;43;01mwith\u001b[39;49;00m\u001b[43m \u001b[49m\u001b[38;5;28;43mself\u001b[39;49m\u001b[38;5;241;43m.\u001b[39;49m\u001b[43mopen\u001b[49m\u001b[43m(\u001b[49m\u001b[43mremotepath\u001b[49m\u001b[43m,\u001b[49m\u001b[43m \u001b[49m\u001b[38;5;124;43m\"\u001b[39;49m\u001b[38;5;124;43mrb\u001b[39;49m\u001b[38;5;124;43m\"\u001b[39;49m\u001b[43m)\u001b[49m\u001b[43m \u001b[49m\u001b[38;5;28;43;01mas\u001b[39;49;00m\u001b[43m \u001b[49m\u001b[43mfr\u001b[49m\u001b[43m:\u001b[49m\n\u001b[0;32m    797\u001b[0m \u001b[43m    \u001b[49m\u001b[38;5;28;43;01mif\u001b[39;49;00m\u001b[43m \u001b[49m\u001b[43mprefetch\u001b[49m\u001b[43m:\u001b[49m\n\u001b[0;32m    798\u001b[0m \u001b[43m        \u001b[49m\u001b[43mfr\u001b[49m\u001b[38;5;241;43m.\u001b[39;49m\u001b[43mprefetch\u001b[49m\u001b[43m(\u001b[49m\u001b[43mfile_size\u001b[49m\u001b[43m,\u001b[49m\u001b[43m \u001b[49m\u001b[43mmax_concurrent_prefetch_requests\u001b[49m\u001b[43m)\u001b[49m\n",
      "File \u001b[1;32mc:\\Users\\mazar\\AppData\\Local\\Programs\\Python\\Python312\\Lib\\site-packages\\paramiko\\util.py:290\u001b[0m, in \u001b[0;36mClosingContextManager.__exit__\u001b[1;34m(self, type, value, traceback)\u001b[0m\n\u001b[0;32m    289\u001b[0m \u001b[38;5;28;01mdef\u001b[39;00m \u001b[38;5;21m__exit__\u001b[39m(\u001b[38;5;28mself\u001b[39m, \u001b[38;5;28mtype\u001b[39m, value, traceback):\n\u001b[1;32m--> 290\u001b[0m     \u001b[38;5;28;43mself\u001b[39;49m\u001b[38;5;241;43m.\u001b[39;49m\u001b[43mclose\u001b[49m\u001b[43m(\u001b[49m\u001b[43m)\u001b[49m\n",
      "File \u001b[1;32mc:\\Users\\mazar\\AppData\\Local\\Programs\\Python\\Python312\\Lib\\site-packages\\paramiko\\sftp_file.py:82\u001b[0m, in \u001b[0;36mSFTPFile.close\u001b[1;34m(self)\u001b[0m\n\u001b[0;32m     78\u001b[0m \u001b[38;5;28;01mdef\u001b[39;00m \u001b[38;5;21mclose\u001b[39m(\u001b[38;5;28mself\u001b[39m):\n\u001b[0;32m     79\u001b[0m \u001b[38;5;250m    \u001b[39m\u001b[38;5;124;03m\"\"\"\u001b[39;00m\n\u001b[0;32m     80\u001b[0m \u001b[38;5;124;03m    Close the file.\u001b[39;00m\n\u001b[0;32m     81\u001b[0m \u001b[38;5;124;03m    \"\"\"\u001b[39;00m\n\u001b[1;32m---> 82\u001b[0m     \u001b[38;5;28;43mself\u001b[39;49m\u001b[38;5;241;43m.\u001b[39;49m\u001b[43m_close\u001b[49m\u001b[43m(\u001b[49m\u001b[43masync_\u001b[49m\u001b[38;5;241;43m=\u001b[39;49m\u001b[38;5;28;43;01mFalse\u001b[39;49;00m\u001b[43m)\u001b[49m\n",
      "File \u001b[1;32mc:\\Users\\mazar\\AppData\\Local\\Programs\\Python\\Python312\\Lib\\site-packages\\paramiko\\sftp_file.py:104\u001b[0m, in \u001b[0;36mSFTPFile._close\u001b[1;34m(self, async_)\u001b[0m\n\u001b[0;32m    102\u001b[0m         \u001b[38;5;28mself\u001b[39m\u001b[38;5;241m.\u001b[39msftp\u001b[38;5;241m.\u001b[39m_async_request(\u001b[38;5;28mtype\u001b[39m(\u001b[38;5;28;01mNone\u001b[39;00m), CMD_CLOSE, \u001b[38;5;28mself\u001b[39m\u001b[38;5;241m.\u001b[39mhandle)\n\u001b[0;32m    103\u001b[0m     \u001b[38;5;28;01melse\u001b[39;00m:\n\u001b[1;32m--> 104\u001b[0m         \u001b[38;5;28;43mself\u001b[39;49m\u001b[38;5;241;43m.\u001b[39;49m\u001b[43msftp\u001b[49m\u001b[38;5;241;43m.\u001b[39;49m\u001b[43m_request\u001b[49m\u001b[43m(\u001b[49m\u001b[43mCMD_CLOSE\u001b[49m\u001b[43m,\u001b[49m\u001b[43m \u001b[49m\u001b[38;5;28;43mself\u001b[39;49m\u001b[38;5;241;43m.\u001b[39;49m\u001b[43mhandle\u001b[49m\u001b[43m)\u001b[49m\n\u001b[0;32m    105\u001b[0m \u001b[38;5;28;01mexcept\u001b[39;00m \u001b[38;5;167;01mEOFError\u001b[39;00m:\n\u001b[0;32m    106\u001b[0m     \u001b[38;5;66;03m# may have outlived the Transport connection\u001b[39;00m\n\u001b[0;32m    107\u001b[0m     \u001b[38;5;28;01mpass\u001b[39;00m\n",
      "File \u001b[1;32mc:\\Users\\mazar\\AppData\\Local\\Programs\\Python\\Python312\\Lib\\site-packages\\paramiko\\sftp_client.py:857\u001b[0m, in \u001b[0;36mSFTPClient._request\u001b[1;34m(self, t, *args)\u001b[0m\n\u001b[0;32m    855\u001b[0m \u001b[38;5;28;01mdef\u001b[39;00m \u001b[38;5;21m_request\u001b[39m(\u001b[38;5;28mself\u001b[39m, t, \u001b[38;5;241m*\u001b[39margs):\n\u001b[0;32m    856\u001b[0m     num \u001b[38;5;241m=\u001b[39m \u001b[38;5;28mself\u001b[39m\u001b[38;5;241m.\u001b[39m_async_request(\u001b[38;5;28mtype\u001b[39m(\u001b[38;5;28;01mNone\u001b[39;00m), t, \u001b[38;5;241m*\u001b[39margs)\n\u001b[1;32m--> 857\u001b[0m     \u001b[38;5;28;01mreturn\u001b[39;00m \u001b[38;5;28;43mself\u001b[39;49m\u001b[38;5;241;43m.\u001b[39;49m\u001b[43m_read_response\u001b[49m\u001b[43m(\u001b[49m\u001b[43mnum\u001b[49m\u001b[43m)\u001b[49m\n",
      "File \u001b[1;32mc:\\Users\\mazar\\AppData\\Local\\Programs\\Python\\Python312\\Lib\\site-packages\\paramiko\\sftp_client.py:887\u001b[0m, in \u001b[0;36mSFTPClient._read_response\u001b[1;34m(self, waitfor)\u001b[0m\n\u001b[0;32m    885\u001b[0m \u001b[38;5;28;01mwhile\u001b[39;00m \u001b[38;5;28;01mTrue\u001b[39;00m:\n\u001b[0;32m    886\u001b[0m     \u001b[38;5;28;01mtry\u001b[39;00m:\n\u001b[1;32m--> 887\u001b[0m         t, data \u001b[38;5;241m=\u001b[39m \u001b[38;5;28;43mself\u001b[39;49m\u001b[38;5;241;43m.\u001b[39;49m\u001b[43m_read_packet\u001b[49m\u001b[43m(\u001b[49m\u001b[43m)\u001b[49m\n\u001b[0;32m    888\u001b[0m     \u001b[38;5;28;01mexcept\u001b[39;00m \u001b[38;5;167;01mEOFError\u001b[39;00m \u001b[38;5;28;01mas\u001b[39;00m e:\n\u001b[0;32m    889\u001b[0m         \u001b[38;5;28;01mraise\u001b[39;00m SSHException(\u001b[38;5;124m\"\u001b[39m\u001b[38;5;124mServer connection dropped: \u001b[39m\u001b[38;5;132;01m{}\u001b[39;00m\u001b[38;5;124m\"\u001b[39m\u001b[38;5;241m.\u001b[39mformat(e))\n",
      "File \u001b[1;32mc:\\Users\\mazar\\AppData\\Local\\Programs\\Python\\Python312\\Lib\\site-packages\\paramiko\\sftp.py:216\u001b[0m, in \u001b[0;36mBaseSFTP._read_packet\u001b[1;34m(self)\u001b[0m\n\u001b[0;32m    213\u001b[0m \u001b[38;5;66;03m# most sftp servers won't accept packets larger than about 32k, so\u001b[39;00m\n\u001b[0;32m    214\u001b[0m \u001b[38;5;66;03m# anything with the high byte set (> 16MB) is just garbage.\u001b[39;00m\n\u001b[0;32m    215\u001b[0m \u001b[38;5;28;01mif\u001b[39;00m byte_ord(x[\u001b[38;5;241m0\u001b[39m]):\n\u001b[1;32m--> 216\u001b[0m     \u001b[38;5;28;01mraise\u001b[39;00m SFTPError(\u001b[38;5;124m\"\u001b[39m\u001b[38;5;124mGarbage packet received\u001b[39m\u001b[38;5;124m\"\u001b[39m)\n\u001b[0;32m    217\u001b[0m size \u001b[38;5;241m=\u001b[39m struct\u001b[38;5;241m.\u001b[39munpack(\u001b[38;5;124m\"\u001b[39m\u001b[38;5;124m>I\u001b[39m\u001b[38;5;124m\"\u001b[39m, x)[\u001b[38;5;241m0\u001b[39m]\n\u001b[0;32m    218\u001b[0m data \u001b[38;5;241m=\u001b[39m \u001b[38;5;28mself\u001b[39m\u001b[38;5;241m.\u001b[39m_read_all(size)\n",
      "\u001b[1;31mSFTPError\u001b[0m: Garbage packet received"
     ]
    }
   ],
   "source": [
    "import paramiko\n",
    "import os\n",
    "\n",
    "# SSH/SFTP Connection\n",
    "ssh = paramiko.SSHClient()\n",
    "ssh.set_missing_host_key_policy(paramiko.AutoAddPolicy())\n",
    "ssh.connect(\n",
    "    hostname='146.141.21.100',  # Replace with remote machine IP/hostname\n",
    "    username='tmazarura',\n",
    "    password='TWgEfeET',  \n",
    ")\n",
    "\n",
    "# Open SFTP session\n",
    "sftp = ssh.open_sftp()\n",
    "\n",
    "# remote_HIVOG_npy = r'HonoursResearch/src//HIV_OG_Normalized.npy'\n",
    "# remote_MZ_npy = r'HonoursResearch/src//HIV_Common_mzs.npy'\n",
    "\n",
    "# remote_h5 = r'mass_spec_data/HIV/3 June/3 June PHRU FFPE test 1_1-115501_SN0p0_profile.h5'\n",
    "\n",
    "# Define remote and local paths (using raw strings to handle spaces properly)\n",
    "# remote_imzml = r'mass_spec_data/HIV/3 June/3 June PHRU FFPE test 1_1-115501_SN0p0_1-56679_SN1p0_centroid.imzml'\n",
    "# remote_ibd = r'mass_spec_data/HIV/3 June/3 June PHRU FFPE test 1_1-115501_SN0p0_1-56679_SN1p0_centroid.ibd'\n",
    "remote_h5 = r'mass_spec_data/HIV/3 June/3 June PHRU FFPE test 1_1-115501_SN0p0_profile.h5'\n",
    "\n",
    "# local_imzml = 'HIV.imzml'\n",
    "# local_ibd = 'HIV.ibd'\n",
    "local_h5 = 'HIV.h5'\n",
    "\n",
    "# remote_imzml = r'mass_spec_data/Cancer biopsy/5 June/5 June tumour test 2_1-327482_SN0p0_1-160000_SN1p0_centroid.imzml'\n",
    "# remote_ibd = r'mass_spec_data/Cancer biopsy/5 June/5 June tumour test 2_1-327482_SN0p0_1-160000_SN1p0_centroid.ibd'\n",
    "# local_imzml = 'Cancer.imzml'\n",
    "# local_ibd = 'Cancer.ibd'\n",
    "\n",
    "\n",
    "# remote_h5 = r'mass_spec_data/Cancer biopsy/5 June/5 June tumour test 2_1-327482_SN0p0_profile.h5'\n",
    "# local_h5 = 'Cancer.h5'\n",
    "\n",
    "# Download files\n",
    "# sftp.get(remote_imzml, local_imzml)\n",
    "# sftp.get(remote_ibd, local_ibd)\n",
    "sftp.get(remote_h5,local_h5)\n",
    "\n",
    "sftp.close()\n",
    "ssh.close()\n",
    "\n",
    "print(\"Files downloaded successfully!\")"
   ]
  }
 ],
 "metadata": {
  "kernelspec": {
   "display_name": "Python 3",
   "language": "python",
   "name": "python3"
  },
  "language_info": {
   "codemirror_mode": {
    "name": "ipython",
    "version": 3
   },
   "file_extension": ".py",
   "mimetype": "text/x-python",
   "name": "python",
   "nbconvert_exporter": "python",
   "pygments_lexer": "ipython3",
   "version": "3.12.2"
  }
 },
 "nbformat": 4,
 "nbformat_minor": 5
}
