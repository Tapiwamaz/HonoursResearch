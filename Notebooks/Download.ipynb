{
 "cells": [
  {
   "cell_type": "markdown",
   "id": "a26df45f",
   "metadata": {},
   "source": [
    "# Downloading from the remote machine"
   ]
  },
  {
   "cell_type": "code",
   "execution_count": null,
   "id": "f305c687",
   "metadata": {},
   "outputs": [
    {
     "ename": "AttributeError",
     "evalue": "'int' object has no attribute 'st_size'",
     "output_type": "error",
     "traceback": [
      "\u001b[0;31m---------------------------------------------------------------------------\u001b[0m",
      "\u001b[0;31mAttributeError\u001b[0m                            Traceback (most recent call last)",
      "Cell \u001b[0;32mIn[4], line 58\u001b[0m\n\u001b[1;32m     55\u001b[0m         \u001b[38;5;28;01melse\u001b[39;00m:\n\u001b[1;32m     56\u001b[0m             sftp\u001b[38;5;241m.\u001b[39mget(remote_path, local_path)\n\u001b[0;32m---> 58\u001b[0m download_dir(sftp, remote_lps_folder, local_lps_folder)\n\u001b[1;32m     60\u001b[0m sftp\u001b[38;5;241m.\u001b[39mclose()\n\u001b[1;32m     61\u001b[0m ssh\u001b[38;5;241m.\u001b[39mclose()\n",
      "Cell \u001b[0;32mIn[4], line 53\u001b[0m, in \u001b[0;36mdownload_dir\u001b[0;34m(sftp, remote_dir, local_dir)\u001b[0m\n\u001b[1;32m     51\u001b[0m remote_path \u001b[38;5;241m=\u001b[39m remote_dir \u001b[38;5;241m+\u001b[39m \u001b[38;5;124m'\u001b[39m\u001b[38;5;124m/\u001b[39m\u001b[38;5;124m'\u001b[39m \u001b[38;5;241m+\u001b[39m entry\u001b[38;5;241m.\u001b[39mfilename\n\u001b[1;32m     52\u001b[0m local_path \u001b[38;5;241m=\u001b[39m os\u001b[38;5;241m.\u001b[39mpath\u001b[38;5;241m.\u001b[39mjoin(local_dir, entry\u001b[38;5;241m.\u001b[39mfilename)\n\u001b[0;32m---> 53\u001b[0m \u001b[38;5;28;01mif\u001b[39;00m paramiko\u001b[38;5;241m.\u001b[39mSFTPAttributes\u001b[38;5;241m.\u001b[39mfrom_stat(entry\u001b[38;5;241m.\u001b[39mst_mode)\u001b[38;5;241m.\u001b[39mst_mode \u001b[38;5;241m&\u001b[39m \u001b[38;5;241m0o40000\u001b[39m:  \u001b[38;5;66;03m# Directory\u001b[39;00m\n\u001b[1;32m     54\u001b[0m     download_dir(sftp, remote_path, local_path)\n\u001b[1;32m     55\u001b[0m \u001b[38;5;28;01melse\u001b[39;00m:\n",
      "File \u001b[0;32m~/anaconda3/lib/python3.12/site-packages/paramiko/sftp_attr.py:73\u001b[0m, in \u001b[0;36mSFTPAttributes.from_stat\u001b[0;34m(cls, obj, filename)\u001b[0m\n\u001b[1;32m     64\u001b[0m \u001b[38;5;250m\u001b[39m\u001b[38;5;124;03m\"\"\"\u001b[39;00m\n\u001b[1;32m     65\u001b[0m \u001b[38;5;124;03mCreate an `.SFTPAttributes` object from an existing ``stat`` object (an\u001b[39;00m\n\u001b[1;32m     66\u001b[0m \u001b[38;5;124;03mobject returned by `os.stat`).\u001b[39;00m\n\u001b[0;32m   (...)\u001b[0m\n\u001b[1;32m     70\u001b[0m \u001b[38;5;124;03m:return: new `.SFTPAttributes` object with the same attribute fields.\u001b[39;00m\n\u001b[1;32m     71\u001b[0m \u001b[38;5;124;03m\"\"\"\u001b[39;00m\n\u001b[1;32m     72\u001b[0m attr \u001b[38;5;241m=\u001b[39m \u001b[38;5;28mcls\u001b[39m()\n\u001b[0;32m---> 73\u001b[0m attr\u001b[38;5;241m.\u001b[39mst_size \u001b[38;5;241m=\u001b[39m obj\u001b[38;5;241m.\u001b[39mst_size\n\u001b[1;32m     74\u001b[0m attr\u001b[38;5;241m.\u001b[39mst_uid \u001b[38;5;241m=\u001b[39m obj\u001b[38;5;241m.\u001b[39mst_uid\n\u001b[1;32m     75\u001b[0m attr\u001b[38;5;241m.\u001b[39mst_gid \u001b[38;5;241m=\u001b[39m obj\u001b[38;5;241m.\u001b[39mst_gid\n",
      "\u001b[0;31mAttributeError\u001b[0m: 'int' object has no attribute 'st_size'"
     ]
    }
   ],
   "source": [
    "import paramiko\n",
    "import os\n",
    "\n",
    "# SSH/SFTP Connection\n",
    "ssh = paramiko.SSHClient()\n",
    "ssh.set_missing_host_key_policy(paramiko.AutoAddPolicy())\n",
    "ssh.connect(\n",
    "    hostname='146.141.21.100',  # Replace with remote machine IP/hostname\n",
    "    username='tmazarura',\n",
    "    password='TWgEfeET',  \n",
    ")\n",
    "\n",
    "# Open SFTP session\n",
    "sftp = ssh.open_sftp()\n",
    "\n",
    "remote_lps_folder = r'HonoursResearch/Data/LPS'\n",
    "local_lps_folder = \"LPS\"\n",
    "\n",
    "# remote_HIVOG_npy = r'HonoursResearch/src//HIV_OG_Normalized.npy'\n",
    "# remote_MZ_npy = r'HonoursResearch/src//HIV_Common_mzs.npy'\n",
    "\n",
    "# remote_h5 = r'mass_spec_data/HIV/3 June/3 June PHRU FFPE test 1_1-115501_SN0p0_profile.h5'\n",
    "\n",
    "# Define remote and local paths (using raw strings to handle spaces properly)\n",
    "# remote_imzml = r'mass_spec_data/HIV/3 June/3 June PHRU FFPE test 1_1-115501_SN0p0_1-56679_SN1p0_centroid.imzml'\n",
    "# remote_ibd = r'mass_spec_data/HIV/3 June/3 June PHRU FFPE test 1_1-115501_SN0p0_1-56679_SN1p0_centroid.ibd'\n",
    "# remote_h5 = r'mass_spec_data/HIV/3 June/3 June PHRU FFPE test 1_1-115501_SN0p0_profile.h5'\n",
    "\n",
    "# local_imzml = 'HIV.imzml'\n",
    "# local_ibd = 'HIV.ibd'\n",
    "# local_h5 = 'HIV.h5'\n",
    "\n",
    "# remote_imzml = r'mass_spec_data/Cancer biopsy/5 June/5 June tumour test 2_1-327482_SN0p0_1-160000_SN1p0_centroid.imzml'\n",
    "# remote_ibd = r'mass_spec_data/Cancer biopsy/5 June/5 June tumour test 2_1-327482_SN0p0_1-160000_SN1p0_centroid.ibd'\n",
    "# local_imzml = 'Cancer.imzml'\n",
    "# local_ibd = 'Cancer.ibd'\n",
    "\n",
    "\n",
    "# remote_h5 = r'mass_spec_data/Cancer biopsy/5 June/5 June tumour test 2_1-327482_SN0p0_profile.h5'\n",
    "# local_h5 = 'Cancer.h5'\n",
    "\n",
    "# Download files\n",
    "# sftp.get(remote_imzml, local_imzml)\n",
    "# sftp.get(remote_ibd, local_ibd)\n",
    "# sftp.get(remote_h5,local_h5)\n",
    "\n",
    "\n",
    "def download_dir(sftp, remote_dir, local_dir):\n",
    "    os.makedirs(local_dir, exist_ok=True)\n",
    "    for entry in sftp.listdir_attr(remote_dir):\n",
    "        remote_path = remote_dir + '/' + entry.filename\n",
    "        local_path = os.path.join(local_dir, entry.filename)\n",
    "        if paramiko.SFTPAttributes.from_stat(entry.st_mode).st_mode & 0o40000:  # Directory\n",
    "            download_dir(sftp, remote_path, local_path)\n",
    "        else:\n",
    "            sftp.get(remote_path, local_path)\n",
    "\n",
    "download_dir(sftp, remote_lps_folder, local_lps_folder)\n",
    "scp -r username@remote_host:/path/to/remote/folder /path/to/local/folder``\n",
    "sftp.close()\n",
    "ssh.close()\n",
    "\n",
    "print(\"Files downloaded successfully!\")"
   ]
  },
  {
   "cell_type": "code",
   "execution_count": null,
   "id": "e4555128",
   "metadata": {},
   "outputs": [],
   "source": []
  }
 ],
 "metadata": {
  "kernelspec": {
   "display_name": "Python 3",
   "language": "python",
   "name": "python3"
  },
  "language_info": {
   "codemirror_mode": {
    "name": "ipython",
    "version": 3
   },
   "file_extension": ".py",
   "mimetype": "text/x-python",
   "name": "python",
   "nbconvert_exporter": "python",
   "pygments_lexer": "ipython3",
   "version": "3.12.2"
  }
 },
 "nbformat": 4,
 "nbformat_minor": 5
}
