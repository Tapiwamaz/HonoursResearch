{
 "cells": [
  {
   "cell_type": "code",
   "execution_count": 1,
   "id": "7310460c",
   "metadata": {},
   "outputs": [
    {
     "name": "stdout",
     "output_type": "stream",
     "text": [
      "Number of spectra: 1657\n",
      "Done adding to array!\n"
     ]
    }
   ],
   "source": [
    "import h5py\n",
    "import hdf5plugin\n",
    "import math\n",
    "import numpy as np\n",
    "import matplotlib.pyplot as plt\n",
    "\n",
    "\n",
    "f = h5py.File(\"../Data/LPS/SAL_ST.h5\",'r')   \n",
    "my_spectra = []\n",
    "\n",
    "keys = list(f.keys())\n",
    "keys = sorted([int(key) for key in f.keys()])\n",
    "# print(keys)\n",
    "coords = []\n",
    "for key in keys:\n",
    "        my_spectra.append([f.get(str(key))[\"x\"][:],f.get(str(key))[\"y\"][:]])\n",
    "        coord = ((key-1) % 40, (key-1) // 40)\n",
    "        coords.append(coord)\n",
    "\n",
    "f.close()        \n",
    "# print(coords)\n",
    "\n",
    "print(f\"Number of spectra:\",len(my_spectra))\n",
    "print(\"Done adding to array!\")   "
   ]
  },
  {
   "cell_type": "code",
   "execution_count": 2,
   "id": "62f2b04c",
   "metadata": {},
   "outputs": [
    {
     "name": "stdout",
     "output_type": "stream",
     "text": [
      "Range of mz values: (0, 2000)\n",
      "Matrix created!\n",
      "Matrix has dimensions of (1657, 67499)\n"
     ]
    }
   ],
   "source": [
    "max_mz = -float('inf')\n",
    "min_mz = float('inf')\n",
    "for spectrum in my_spectra:\n",
    "    max_mz = math.ceil(max(max(spectrum[0]),max_mz))\n",
    "    min_mz = math.floor(min(min(spectrum[0]),min_mz))\n",
    "print(f'Range of mz values:',(min_mz,max_mz))\n",
    "\n",
    "\n",
    "common_mzs = np.arange(min_mz,max_mz,0.02)\n",
    "binned = np.zeros((len(my_spectra), len(common_mzs)), dtype=np.float32)\n",
    "\n",
    "for i, (mzs, intensities) in enumerate(my_spectra):\n",
    "    indices = np.digitize(mzs, common_mzs) - 1\n",
    "    for k, val in zip(indices, intensities):\n",
    "        if 0 <= k < binned.shape[1]:\n",
    "            binned[i, k] += val\n",
    "\n",
    "del my_spectra\n",
    "\n",
    "tic = binned.sum(axis=1, keepdims=True)\n",
    "X = binned / (tic +1e-10)\n",
    "\n",
    "\n",
    "\n",
    "# Min-max normalization to [0, 1] range per pixel\n",
    "X_min = X.min(axis=1, keepdims=True)\n",
    "X_max = X.max(axis=1, keepdims=True)\n",
    "X = (X - X_min) / (X_max - X_min + 1e-6)  # Adding a small epsilon to avoid division by zero\n",
    "\n",
    "# Filter to only include m/z values between 150 and 1500\n",
    "mz_mask = (common_mzs >=150) & (common_mzs < 1500)\n",
    "X = X[:, mz_mask]\n",
    "X = X[:,:len(X[0])-1]\n",
    "common_mzs = common_mzs[mz_mask]\n",
    "\n",
    "# X = X.astype(np.float32)\n",
    "print(f\"Matrix created!\")\n",
    "print(f\"Matrix has dimensions of\", X.shape)"
   ]
  },
  {
   "cell_type": "code",
   "execution_count": 3,
   "id": "6c799687",
   "metadata": {},
   "outputs": [
    {
     "data": {
      "image/png": "[encoded data removed]",
      "text/plain": [
       "<Figure size 640x480 with 1 Axes>"
      ]
     },
     "metadata": {},
     "output_type": "display_data"
    }
   ],
   "source": [
    "plt.plot(common_mzs[:len(common_mzs)-1],X[16])\n",
    "plt.show()"
   ]
  },
  {
   "cell_type": "code",
   "execution_count": 4,
   "id": "715ea016",
   "metadata": {},
   "outputs": [
    {
     "name": "stdout",
     "output_type": "stream",
     "text": [
      "NaN in training data: False\n",
      "Input range: 0.0 to 0.9999899\n"
     ]
    }
   ],
   "source": [
    "print(\"NaN in training data:\", np.isnan(X).any())\n",
    "print(\"Input range:\", np.min(X), \"to\", np.max(X))"
   ]
  },
  {
   "cell_type": "code",
   "execution_count": 5,
   "id": "3baf08f0",
   "metadata": {},
   "outputs": [],
   "source": [
    "name = f\"../Data/LPS/sal_st.npy\"\n",
    "\n",
    "np.save(name, X)"
   ]
  },
  {
   "cell_type": "code",
   "execution_count": 6,
   "id": "6ad5215d",
   "metadata": {},
   "outputs": [],
   "source": [
    "name = f\"../Data/LPS/sal_st_coords.npy\"\n",
    "np.save(name,coords)\n",
    "name = f\"../Data/LPS/sal_st_mzs.npy\"\n",
    "np.save(name,common_mzs)\n"
   ]
  }
 ],
 "metadata": {
  "kernelspec": {
   "display_name": "base",
   "language": "python",
   "name": "python3"
  },
  "language_info": {
   "codemirror_mode": {
    "name": "ipython",
    "version": 3
   },
   "file_extension": ".py",
   "mimetype": "text/x-python",
   "name": "python",
   "nbconvert_exporter": "python",
   "pygments_lexer": "ipython3",
   "version": "3.12.7"
  }
 },
 "nbformat": 4,
 "nbformat_minor": 5
}
