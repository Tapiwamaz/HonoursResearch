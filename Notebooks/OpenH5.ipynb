{
 "cells": [
  {
   "cell_type": "code",
   "execution_count": 5,
   "id": "7310460c",
   "metadata": {},
   "outputs": [
    {
     "ename": "KeyboardInterrupt",
     "evalue": "",
     "output_type": "error",
     "traceback": [
      "\u001b[0;31m---------------------------------------------------------------------------\u001b[0m",
      "\u001b[0;31mKeyboardInterrupt\u001b[0m                         Traceback (most recent call last)",
      "Cell \u001b[0;32mIn[5], line 13\u001b[0m\n\u001b[1;32m     11\u001b[0m keys \u001b[38;5;241m=\u001b[39m \u001b[38;5;28mlist\u001b[39m(f\u001b[38;5;241m.\u001b[39mkeys())\n\u001b[1;32m     12\u001b[0m \u001b[38;5;28;01mfor\u001b[39;00m key \u001b[38;5;129;01min\u001b[39;00m keys:\n\u001b[0;32m---> 13\u001b[0m         my_spectra\u001b[38;5;241m.\u001b[39mappend([f\u001b[38;5;241m.\u001b[39mget(key)[\u001b[38;5;124m\"\u001b[39m\u001b[38;5;124mx\u001b[39m\u001b[38;5;124m\"\u001b[39m][:],f\u001b[38;5;241m.\u001b[39mget(key)[\u001b[38;5;124m\"\u001b[39m\u001b[38;5;124my\u001b[39m\u001b[38;5;124m\"\u001b[39m][:]])\n\u001b[1;32m     15\u001b[0m f\u001b[38;5;241m.\u001b[39mclose()        \n\u001b[1;32m     17\u001b[0m \u001b[38;5;28mprint\u001b[39m(\u001b[38;5;124mf\u001b[39m\u001b[38;5;124m\"\u001b[39m\u001b[38;5;124mNumber of spectra:\u001b[39m\u001b[38;5;124m\"\u001b[39m,\u001b[38;5;28mlen\u001b[39m(my_spectra))\n",
      "File \u001b[0;32m~/anaconda3/lib/python3.12/site-packages/h5py/_hl/group.py:400\u001b[0m, in \u001b[0;36mGroup.get\u001b[0;34m(self, name, default, getclass, getlink)\u001b[0m\n\u001b[1;32m    398\u001b[0m \u001b[38;5;28;01mif\u001b[39;00m \u001b[38;5;129;01mnot\u001b[39;00m (getclass \u001b[38;5;129;01mor\u001b[39;00m getlink):\n\u001b[1;32m    399\u001b[0m     \u001b[38;5;28;01mtry\u001b[39;00m:\n\u001b[0;32m--> 400\u001b[0m         \u001b[38;5;28;01mreturn\u001b[39;00m \u001b[38;5;28mself\u001b[39m[name]\n\u001b[1;32m    401\u001b[0m     \u001b[38;5;28;01mexcept\u001b[39;00m \u001b[38;5;167;01mKeyError\u001b[39;00m:\n\u001b[1;32m    402\u001b[0m         \u001b[38;5;28;01mreturn\u001b[39;00m default\n",
      "File \u001b[0;32mh5py/_objects.pyx:54\u001b[0m, in \u001b[0;36mh5py._objects.with_phil.wrapper\u001b[0;34m()\u001b[0m\n",
      "File \u001b[0;32mh5py/_objects.pyx:55\u001b[0m, in \u001b[0;36mh5py._objects.with_phil.wrapper\u001b[0;34m()\u001b[0m\n",
      "File \u001b[0;32m~/anaconda3/lib/python3.12/site-packages/h5py/_hl/group.py:357\u001b[0m, in \u001b[0;36mGroup.__getitem__\u001b[0;34m(self, name)\u001b[0m\n\u001b[1;32m    355\u001b[0m         \u001b[38;5;28;01mraise\u001b[39;00m \u001b[38;5;167;01mValueError\u001b[39;00m(\u001b[38;5;124m\"\u001b[39m\u001b[38;5;124mInvalid HDF5 object reference\u001b[39m\u001b[38;5;124m\"\u001b[39m)\n\u001b[1;32m    356\u001b[0m \u001b[38;5;28;01melif\u001b[39;00m \u001b[38;5;28misinstance\u001b[39m(name, (\u001b[38;5;28mbytes\u001b[39m, \u001b[38;5;28mstr\u001b[39m)):\n\u001b[0;32m--> 357\u001b[0m     oid \u001b[38;5;241m=\u001b[39m h5o\u001b[38;5;241m.\u001b[39mopen(\u001b[38;5;28mself\u001b[39m\u001b[38;5;241m.\u001b[39mid, \u001b[38;5;28mself\u001b[39m\u001b[38;5;241m.\u001b[39m_e(name), lapl\u001b[38;5;241m=\u001b[39m\u001b[38;5;28mself\u001b[39m\u001b[38;5;241m.\u001b[39m_lapl)\n\u001b[1;32m    358\u001b[0m \u001b[38;5;28;01melse\u001b[39;00m:\n\u001b[1;32m    359\u001b[0m     \u001b[38;5;28;01mraise\u001b[39;00m \u001b[38;5;167;01mTypeError\u001b[39;00m(\u001b[38;5;124m\"\u001b[39m\u001b[38;5;124mAccessing a group is done with bytes or str, \u001b[39m\u001b[38;5;124m\"\u001b[39m\n\u001b[1;32m    360\u001b[0m                     \u001b[38;5;124m\"\u001b[39m\u001b[38;5;124mnot \u001b[39m\u001b[38;5;132;01m{}\u001b[39;00m\u001b[38;5;124m\"\u001b[39m\u001b[38;5;241m.\u001b[39mformat(\u001b[38;5;28mtype\u001b[39m(name)))\n",
      "File \u001b[0;32mh5py/_objects.pyx:54\u001b[0m, in \u001b[0;36mh5py._objects.with_phil.wrapper\u001b[0;34m()\u001b[0m\n",
      "File \u001b[0;32mh5py/_objects.pyx:55\u001b[0m, in \u001b[0;36mh5py._objects.with_phil.wrapper\u001b[0;34m()\u001b[0m\n",
      "File \u001b[0;32m~/anaconda3/lib/python3.12/site-packages/h5py/_hl/base.py:307\u001b[0m, in \u001b[0;36mHLObject.id\u001b[0;34m(self)\u001b[0m\n\u001b[1;32m    304\u001b[0m         \u001b[38;5;28;01mraise\u001b[39;00m \u001b[38;5;167;01mValueError\u001b[39;00m(\u001b[38;5;124m\"\u001b[39m\u001b[38;5;124mParent of an anonymous object is undefined\u001b[39m\u001b[38;5;124m\"\u001b[39m)\n\u001b[1;32m    305\u001b[0m     \u001b[38;5;28;01mreturn\u001b[39;00m \u001b[38;5;28mself\u001b[39m\u001b[38;5;241m.\u001b[39mfile[posixpath\u001b[38;5;241m.\u001b[39mdirname(\u001b[38;5;28mself\u001b[39m\u001b[38;5;241m.\u001b[39mname)]\n\u001b[0;32m--> 307\u001b[0m \u001b[38;5;129m@property\u001b[39m\n\u001b[1;32m    308\u001b[0m \u001b[38;5;129m@with_phil\u001b[39m\n\u001b[1;32m    309\u001b[0m \u001b[38;5;28;01mdef\u001b[39;00m \u001b[38;5;21mid\u001b[39m(\u001b[38;5;28mself\u001b[39m):\n\u001b[1;32m    310\u001b[0m \u001b[38;5;250m    \u001b[39m\u001b[38;5;124;03m\"\"\" Low-level identifier appropriate for this object \"\"\"\u001b[39;00m\n\u001b[1;32m    311\u001b[0m     \u001b[38;5;28;01mreturn\u001b[39;00m \u001b[38;5;28mself\u001b[39m\u001b[38;5;241m.\u001b[39m_id\n",
      "\u001b[0;31mKeyboardInterrupt\u001b[0m: "
     ]
    }
   ],
   "source": [
    "import h5py\n",
    "import hdf5plugin\n",
    "import math\n",
    "import numpy as np\n",
    "import matplotlib.pyplot as plt\n",
    "\n",
    "\n",
    "f = h5py.File(\"../Data/LPS/Control2.h5\",'r')   \n",
    "my_spectra = []\n",
    "\n",
    "keys = list(f.keys())\n",
    "for key in keys:\n",
    "        my_spectra.append([f.get(key)[\"x\"][:],f.get(key)[\"y\"][:]])\n",
    "\n",
    "f.close()        \n",
    "\n",
    "print(f\"Number of spectra:\",len(my_spectra))\n",
    "print(\"Done adding to array!\")    "
   ]
  },
  {
   "cell_type": "code",
   "execution_count": null,
   "id": "62f2b04c",
   "metadata": {},
   "outputs": [
    {
     "name": "stdout",
     "output_type": "stream",
     "text": [
      "Range of mz values: (0, 2000)\n"
     ]
    },
    {
     "name": "stderr",
     "output_type": "stream",
     "text": [
      "/tmp/ipykernel_129437/2763579130.py:21: RuntimeWarning: invalid value encountered in divide\n",
      "  X = binned / tic\n"
     ]
    },
    {
     "name": "stdout",
     "output_type": "stream",
     "text": [
      "Matrix created!\n",
      "Matrix has dimensions of (1657, 67499)\n"
     ]
    }
   ],
   "source": [
    "max_mz = -float('inf')\n",
    "min_mz = float('inf')\n",
    "for spectrum in my_spectra:\n",
    "    max_mz = math.ceil(max(max(spectrum[0]),max_mz))\n",
    "    min_mz = math.floor(min(min(spectrum[0]),min_mz))\n",
    "print(f'Range of mz values:',(min_mz,max_mz))\n",
    "\n",
    "\n",
    "common_mzs = np.arange(min_mz,max_mz,0.02)\n",
    "binned = np.zeros((len(my_spectra), len(common_mzs)), dtype=np.float32)\n",
    "\n",
    "for i, (mzs, intensities) in enumerate(my_spectra):\n",
    "    indices = np.digitize(mzs, common_mzs) - 1\n",
    "    for k, val in zip(indices, intensities):\n",
    "        if 0 <= k < binned.shape[1]:\n",
    "            binned[i, k] += val\n",
    "\n",
    "del my_spectra\n",
    "\n",
    "tic = binned.sum(axis=1, keepdims=True)\n",
    "X = binned / tic\n",
    "\n",
    "\n",
    "\n",
    "# Min-max normalization to [0, 1] range per pixel\n",
    "X_min = X.min(axis=1, keepdims=True)\n",
    "X_max = X.max(axis=1, keepdims=True)\n",
    "X = (X - X_min) / (X_max - X_min + 1e-6)  # Adding a small epsilon to avoid division by zero\n",
    "\n",
    "# Filter to only include m/z values between 150 and 1500\n",
    "mz_mask = (common_mzs >=150) & (common_mzs < 1500)\n",
    "X = X[:, mz_mask]\n",
    "X = X[:,:len(X[0])-1]\n",
    "common_mzs = common_mzs[mz_mask]\n",
    "\n",
    "X = X.astype(np.float32)\n",
    "print(f\"Matrix created!\")\n",
    "print(f\"Matrix has dimensions of\", X.shape)"
   ]
  },
  {
   "cell_type": "code",
   "execution_count": null,
   "id": "6c799687",
   "metadata": {},
   "outputs": [
    {
     "data": {
      "image/png": "[encoded data removed]",
      "text/plain": [
       "<Figure size 640x480 with 1 Axes>"
      ]
     },
     "metadata": {},
     "output_type": "display_data"
    }
   ],
   "source": [
    "plt.plot(common_mzs[:len(common_mzs)-1],X[16])\n",
    "plt.show()"
   ]
  },
  {
   "cell_type": "code",
   "execution_count": null,
   "id": "3baf08f0",
   "metadata": {},
   "outputs": [],
   "source": [
    "name = f\"../Data/LPS/sal_rand_x.npy\"\n",
    "\n",
    "np.save(name, X)"
   ]
  }
 ],
 "metadata": {
  "kernelspec": {
   "display_name": "base",
   "language": "python",
   "name": "python3"
  },
  "language_info": {
   "codemirror_mode": {
    "name": "ipython",
    "version": 3
   },
   "file_extension": ".py",
   "mimetype": "text/x-python",
   "name": "python",
   "nbconvert_exporter": "python",
   "pygments_lexer": "ipython3",
   "version": "3.12.7"
  }
 },
 "nbformat": 4,
 "nbformat_minor": 5
}
