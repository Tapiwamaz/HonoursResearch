{
 "cells": [
  {
   "cell_type": "markdown",
   "id": "c5922880",
   "metadata": {},
   "source": [
    "# Data Analysis\n",
    "**Some information about the data**"
   ]
  },
  {
   "cell_type": "code",
   "execution_count": null,
   "execution_count": null,
   "id": "7113319d",
   "metadata": {},
   "outputs": [
    {
     "ename": "KeyboardInterrupt",
     "evalue": "",
     "output_type": "error",
     "traceback": [
      "\u001b[1;31m---------------------------------------------------------------------------\u001b[0m",
      "\u001b[1;31mKeyboardInterrupt\u001b[0m                         Traceback (most recent call last)",
      "Cell \u001b[1;32mIn[3], line 6\u001b[0m\n\u001b[0;32m      4\u001b[0m my_spectra \u001b[38;5;241m=\u001b[39m []\n\u001b[0;32m      5\u001b[0m \u001b[38;5;28;01mfor\u001b[39;00m idx, (x,y,z) \u001b[38;5;129;01min\u001b[39;00m \u001b[38;5;28menumerate\u001b[39m(p\u001b[38;5;241m.\u001b[39mcoordinates):\n\u001b[1;32m----> 6\u001b[0m     mzs, intensities \u001b[38;5;241m=\u001b[39m \u001b[43mp\u001b[49m\u001b[38;5;241;43m.\u001b[39;49m\u001b[43mgetspectrum\u001b[49m\u001b[43m(\u001b[49m\u001b[43midx\u001b[49m\u001b[43m)\u001b[49m\n\u001b[0;32m      7\u001b[0m     my_spectra\u001b[38;5;241m.\u001b[39mappend([mzs, intensities, (x, y, z)])\n",
      "File \u001b[1;32mc:\\Users\\mazar\\AppData\\Local\\Programs\\Python\\Python312\\Lib\\site-packages\\pyimzml\\ImzMLParser.py:428\u001b[0m, in \u001b[0;36mImzMLParser.getspectrum\u001b[1;34m(self, index)\u001b[0m\n\u001b[0;32m    413\u001b[0m \u001b[38;5;28;01mdef\u001b[39;00m \u001b[38;5;21mgetspectrum\u001b[39m(\u001b[38;5;28mself\u001b[39m, index):\n\u001b[0;32m    414\u001b[0m \u001b[38;5;250m    \u001b[39m\u001b[38;5;124;03m\"\"\"\u001b[39;00m\n\u001b[0;32m    415\u001b[0m \u001b[38;5;124;03m    Reads the spectrum at specified index from the .ibd file.\u001b[39;00m\n\u001b[0;32m    416\u001b[0m \n\u001b[1;32m   (...)\u001b[0m\n\u001b[0;32m    426\u001b[0m \u001b[38;5;124;03m        Sequence of intensity values corresponding to mz_array\u001b[39;00m\n\u001b[0;32m    427\u001b[0m \u001b[38;5;124;03m    \"\"\"\u001b[39;00m\n\u001b[1;32m--> 428\u001b[0m     mz_bytes, intensity_bytes \u001b[38;5;241m=\u001b[39m \u001b[38;5;28;43mself\u001b[39;49m\u001b[38;5;241;43m.\u001b[39;49m\u001b[43mget_spectrum_as_string\u001b[49m\u001b[43m(\u001b[49m\u001b[43mindex\u001b[49m\u001b[43m)\u001b[49m\n\u001b[0;32m    429\u001b[0m     mz_array \u001b[38;5;241m=\u001b[39m np\u001b[38;5;241m.\u001b[39mfrombuffer(mz_bytes, dtype\u001b[38;5;241m=\u001b[39m\u001b[38;5;28mself\u001b[39m\u001b[38;5;241m.\u001b[39mmzPrecision)\n\u001b[0;32m    430\u001b[0m     intensity_array \u001b[38;5;241m=\u001b[39m np\u001b[38;5;241m.\u001b[39mfrombuffer(intensity_bytes, dtype\u001b[38;5;241m=\u001b[39m\u001b[38;5;28mself\u001b[39m\u001b[38;5;241m.\u001b[39mintensityPrecision)\n",
      "File \u001b[1;32mc:\\Users\\mazar\\AppData\\Local\\Programs\\Python\\Python312\\Lib\\site-packages\\pyimzml\\ImzMLParser.py:459\u001b[0m, in \u001b[0;36mImzMLParser.get_spectrum_as_string\u001b[1;34m(self, index)\u001b[0m\n\u001b[0;32m    457\u001b[0m mz_string \u001b[38;5;241m=\u001b[39m \u001b[38;5;28mself\u001b[39m\u001b[38;5;241m.\u001b[39mm\u001b[38;5;241m.\u001b[39mread(lengths[\u001b[38;5;241m0\u001b[39m])\n\u001b[0;32m    458\u001b[0m \u001b[38;5;28mself\u001b[39m\u001b[38;5;241m.\u001b[39mm\u001b[38;5;241m.\u001b[39mseek(offsets[\u001b[38;5;241m1\u001b[39m])\n\u001b[1;32m--> 459\u001b[0m intensity_string \u001b[38;5;241m=\u001b[39m \u001b[38;5;28;43mself\u001b[39;49m\u001b[38;5;241;43m.\u001b[39;49m\u001b[43mm\u001b[49m\u001b[38;5;241;43m.\u001b[39;49m\u001b[43mread\u001b[49m\u001b[43m(\u001b[49m\u001b[43mlengths\u001b[49m\u001b[43m[\u001b[49m\u001b[38;5;241;43m1\u001b[39;49m\u001b[43m]\u001b[49m\u001b[43m)\u001b[49m\n\u001b[0;32m    460\u001b[0m \u001b[38;5;28;01mreturn\u001b[39;00m mz_string, intensity_string\n",
      "\u001b[1;31mKeyboardInterrupt\u001b[0m: "
     ]
    }
   ],
   "source": [
    "from pyimzml.ImzMLParser import ImzMLParser\n",
    "\n",
    "p = ImzMLParser('../Data/HIV/HIV.imzml')\n",
    "my_spectra = []\n",
    "for idx, (x,y,z) in enumerate(p.coordinates):\n",
    "    mzs, intensities = p.getspectrum(idx)\n",
    "    my_spectra.append([mzs, intensities, (x, y, z)])"
   ]
  },
  {
   "cell_type": "code",
   "execution_count": null,
   "id": "4714348d",
   "metadata": {},
   "outputs": [
    {
     "name": "stdout",
     "output_type": "stream",
     "text": [
      "Range of mz values: (100.00036, 1499.9813)\n",
      "Range of intensities values: (467.14062, 9275392.0)\n",
      "Number of spectrum: 56678\n"
     ]
    }
   ],
   "source": [
    "# Min of max  recorded mzs and intensities\n",
    "max_mz = -float('inf')\n",
    "max_intensity = -float('inf')\n",
    "min_mz = float('inf')\n",
    "min_intensity = float('inf')\n",
    "coordinates = []\n",
    "for spectrum in my_spectra:\n",
    "    max_mz = max(max(spectrum[0]),max_mz)\n",
    "    min_mz = min(min(spectrum[0]),min_mz)\n",
    "    max_intensity = max(max(spectrum[1]),max_intensity)\n",
    "    min_intensity = min(min(spectrum[1]),min_intensity)\n",
    "\n",
    "print(f'Range of mz values:',(min_mz,max_mz))\n",
    "print(f'Range of intensities values:',(min_intensity,max_intensity))\n",
    "print(f'Number of spectrum:',len(my_spectra))\n",
    "\n",
    "print(my_spectra[0][2])\n",
    "\n"
   ]
  },
  {
   "cell_type": "code",
   "execution_count": 13,
   "id": "e8690933",
   "metadata": {},
   "outputs": [],
   "source": [
    "import numpy as np\n",
    "with open(\"HIV_Coordinates.npy\",'wb') as file:\n",
    "    np.save(file, np.array(coordinates))\n",
    "# print(my_spectra[0][2])"
   ]
  },
  {
   "cell_type": "code",
   "execution_count": null,
   "id": "535b8aa5",
   "metadata": {},
   "outputs": [],
   "source": [
    "import numpy as np\n",
    "import matplotlib.pyplot as plt\n",
    "\n",
    "# Creating histogram to see the distribution of recorded m/z values\n",
    "# For a given tolerance\n",
    "tolerance = 0.02\n",
    "\n",
    "histogram_data = np.array([[0,0]])\n",
    "most_commmon_mz = [0,0]\n",
    "\n",
    "# I will target the mz values between the min and max mz found incrementing by 10\n",
    "for mz in range(100,1500,5):\n",
    "    count = 0\n",
    "    for mzs,_,_ in my_spectra:\n",
    "        mz_mask = (mzs >= mz - tolerance) & (mzs <= mz + tolerance)\n",
    "        # mz_mask is an array of the same size as mzs and has a true where there is a an mz in mzs that is in the range\n",
    "        # If a single true is found we add the spectrum(pixel) to the count for the range we are looking for \n",
    "        if np.any(mz_mask):\n",
    "            count += 1\n",
    "            # go to next spectrum\n",
    "            continue\n",
    " \n",
    "    data = np.array([mz, count])\n",
    "    if  count > most_commmon_mz[1]:\n",
    "        most_commmon_mz = data  \n",
    "    histogram_data = np.vstack([histogram_data, data])\n",
    "\n",
    "\n",
    "\n",
    "print(f'The most frequently occuring mz range is mz={most_commmon_mz[0]} with {most_commmon_mz[1]} spectra')\n",
    "print(f'This constitutes {(most_commmon_mz[1]/len(my_spectra))*100} % of the pixels')"
   ]
  },
  {
   "cell_type": "code",
   "execution_count": null,
   "id": "1e0d0c28",
   "metadata": {},
   "outputs": [],
   "source": [
    "plt.bar(histogram_data[1:,0], histogram_data[1:,1],width=6,color=\"g\")\n",
    "plt.xlabel('m/z')\n",
    "plt.ylabel('Frequency (Pixels found within region')\n",
    "plt.title(f'Distribution of m/z values across spectra (tolerance={tolerance})')\n",
    "plt.show()"
   ]
  }
 ],
 "metadata": {
  "kernelspec": {
   "display_name": "Python 3",
   "language": "python",
   "name": "python3"
  },
  "language_info": {
   "codemirror_mode": {
    "name": "ipython",
    "version": 3
   },
   "file_extension": ".py",
   "mimetype": "text/x-python",
   "name": "python",
   "nbconvert_exporter": "python",
   "pygments_lexer": "ipython3",
   "version": "3.12.2"
  }
 },
 "nbformat": 4,
 "nbformat_minor": 5
}
