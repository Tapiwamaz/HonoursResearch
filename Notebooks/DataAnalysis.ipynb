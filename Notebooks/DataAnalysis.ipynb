{
 "cells": [
  {
   "cell_type": "markdown",
   "id": "c5922880",
   "metadata": {},
   "source": [
    "# Data Analysis\n",
    "**Some information about the data**"
   ]
  },
  {
   "cell_type": "code",
   "execution_count": 1,
   "id": "7113319d",
   "metadata": {},
   "outputs": [
    {
     "name": "stderr",
     "output_type": "stream",
     "text": [
      "/home/vmuser/anaconda3/lib/python3.12/site-packages/pyimzml/ontology/ontology.py:80: UserWarning: Unrecognized accession in <cvParam>:  (name: \"\").\n",
      "  warn('Unrecognized accession in <cvParam>: %s (name: \"%s\").' % (accession, raw_name))\n",
      "/home/vmuser/anaconda3/lib/python3.12/site-packages/pyimzml/ontology/ontology.py:92: UserWarning: Accession IMS:1000042 found with incorrect name \"max count of pixel x\". Updating name to \"max count of pixels x\".\n",
      "  warn(\n",
      "/home/vmuser/anaconda3/lib/python3.12/site-packages/pyimzml/ontology/ontology.py:92: UserWarning: Accession IMS:1000043 found with incorrect name \"max count of pixel y\". Updating name to \"max count of pixels y\".\n",
      "  warn(\n",
      "/home/vmuser/anaconda3/lib/python3.12/site-packages/pyimzml/ontology/ontology.py:92: UserWarning: Accession IMS:1000046 found with incorrect name \"pixel size x\". Updating name to \"pixel size (x)\".\n",
      "  warn(\n"
     ]
    }
   ],
   "source": [
    "from pyimzml.ImzMLParser import ImzMLParser\n",
    "\n",
    "p = ImzMLParser('../Data/LPS/LPS1.imzml')\n",
    "my_spectra = []\n",
    "for idx, (x,y,z) in enumerate(p.coordinates):\n",
    "    mzs, intensities = p.getspectrum(idx)\n",
    "    my_spectra.append([mzs, intensities, (x, y, z)])"
   ]
  },
  {
   "cell_type": "code",
   "execution_count": 2,
   "id": "4714348d",
   "metadata": {},
   "outputs": [
    {
     "name": "stdout",
     "output_type": "stream",
     "text": [
      "Range of mz values: (150, 2000)\n",
      "Range of intensities values: (52.31201, 77369.5)\n",
      "Number of spectrum: 1640\n",
      "(0, 1, 1)\n"
     ]
    }
   ],
   "source": [
    "# Min of max  recorded mzs and intensities\n",
    "import math\n",
    "max_mz = -float('inf')\n",
    "max_intensity = -float('inf')\n",
    "min_mz = float('inf')\n",
    "min_intensity = float('inf')\n",
    "coordinates = []\n",
    "for spectrum in my_spectra:\n",
    "    max_mz = math.ceil(max(max(spectrum[0]),max_mz))\n",
    "    min_mz = math.floor(min(min(spectrum[0]),min_mz))\n",
    "    max_intensity = max(max(spectrum[1]),max_intensity)\n",
    "    min_intensity = min(min(spectrum[1]),min_intensity)\n",
    "\n",
    "print(f'Range of mz values:',(min_mz,max_mz))\n",
    "print(f'Range of intensities values:',(min_intensity,max_intensity))\n",
    "print(f'Number of spectrum:',len(my_spectra))\n",
    "\n",
    "print(my_spectra[0][2])\n",
    "\n"
   ]
  },
  {
   "cell_type": "code",
   "execution_count": 3,
   "id": "e8690933",
   "metadata": {},
   "outputs": [],
   "source": [
    "# import numpy as np\n",
    "# with open(\"HIV_Coordinates.npy\",'wb') as file:\n",
    "#     np.save(file, np.array(coordinates))\n",
    "# print(my_spectra[0][2])"
   ]
  },
  {
   "cell_type": "code",
   "execution_count": 6,
   "id": "535b8aa5",
   "metadata": {},
   "outputs": [
    {
     "ename": "KeyboardInterrupt",
     "evalue": "",
     "output_type": "error",
     "traceback": [
      "\u001b[0;31m---------------------------------------------------------------------------\u001b[0m",
      "\u001b[0;31mKeyboardInterrupt\u001b[0m                         Traceback (most recent call last)",
      "Cell \u001b[0;32mIn[6], line 18\u001b[0m\n\u001b[1;32m     15\u001b[0m mz_mask \u001b[38;5;241m=\u001b[39m (mzs \u001b[38;5;241m>\u001b[39m\u001b[38;5;241m=\u001b[39m mz \u001b[38;5;241m-\u001b[39m tolerance) \u001b[38;5;241m&\u001b[39m (mzs \u001b[38;5;241m<\u001b[39m\u001b[38;5;241m=\u001b[39m mz \u001b[38;5;241m+\u001b[39m tolerance)\n\u001b[1;32m     16\u001b[0m \u001b[38;5;66;03m# mz_mask is an array of the same size as mzs and has a true where there is a an mz in mzs that is in the range\u001b[39;00m\n\u001b[1;32m     17\u001b[0m \u001b[38;5;66;03m# If a single true is found we add the spectrum(pixel) to the count for the range we are looking for \u001b[39;00m\n\u001b[0;32m---> 18\u001b[0m \u001b[38;5;28;01mif\u001b[39;00m np\u001b[38;5;241m.\u001b[39many(mz_mask):\n\u001b[1;32m     19\u001b[0m     count \u001b[38;5;241m+\u001b[39m\u001b[38;5;241m=\u001b[39m \u001b[38;5;241m1\u001b[39m\n\u001b[1;32m     20\u001b[0m     \u001b[38;5;66;03m# go to next spectrum\u001b[39;00m\n",
      "File \u001b[0;32m~/anaconda3/lib/python3.12/site-packages/numpy/core/fromnumeric.py:2317\u001b[0m, in \u001b[0;36m_any_dispatcher\u001b[0;34m(a, axis, out, keepdims, where)\u001b[0m\n\u001b[1;32m   2311\u001b[0m         \u001b[38;5;28;01mreturn\u001b[39;00m res\n\u001b[1;32m   2313\u001b[0m     \u001b[38;5;28;01mreturn\u001b[39;00m _wrapreduction(a, np\u001b[38;5;241m.\u001b[39madd, \u001b[38;5;124m'\u001b[39m\u001b[38;5;124msum\u001b[39m\u001b[38;5;124m'\u001b[39m, axis, dtype, out, keepdims\u001b[38;5;241m=\u001b[39mkeepdims,\n\u001b[1;32m   2314\u001b[0m                           initial\u001b[38;5;241m=\u001b[39minitial, where\u001b[38;5;241m=\u001b[39mwhere)\n\u001b[0;32m-> 2317\u001b[0m \u001b[38;5;28;01mdef\u001b[39;00m \u001b[38;5;21m_any_dispatcher\u001b[39m(a, axis\u001b[38;5;241m=\u001b[39m\u001b[38;5;28;01mNone\u001b[39;00m, out\u001b[38;5;241m=\u001b[39m\u001b[38;5;28;01mNone\u001b[39;00m, keepdims\u001b[38;5;241m=\u001b[39m\u001b[38;5;28;01mNone\u001b[39;00m, \u001b[38;5;241m*\u001b[39m,\n\u001b[1;32m   2318\u001b[0m                     where\u001b[38;5;241m=\u001b[39mnp\u001b[38;5;241m.\u001b[39m_NoValue):\n\u001b[1;32m   2319\u001b[0m     \u001b[38;5;28;01mreturn\u001b[39;00m (a, where, out)\n\u001b[1;32m   2322\u001b[0m \u001b[38;5;129m@array_function_dispatch\u001b[39m(_any_dispatcher)\n\u001b[1;32m   2323\u001b[0m \u001b[38;5;28;01mdef\u001b[39;00m \u001b[38;5;21many\u001b[39m(a, axis\u001b[38;5;241m=\u001b[39m\u001b[38;5;28;01mNone\u001b[39;00m, out\u001b[38;5;241m=\u001b[39m\u001b[38;5;28;01mNone\u001b[39;00m, keepdims\u001b[38;5;241m=\u001b[39mnp\u001b[38;5;241m.\u001b[39m_NoValue, \u001b[38;5;241m*\u001b[39m, where\u001b[38;5;241m=\u001b[39mnp\u001b[38;5;241m.\u001b[39m_NoValue):\n",
      "\u001b[0;31mKeyboardInterrupt\u001b[0m: "
     ]
    }
   ],
   "source": [
    "import numpy as np\n",
    "import matplotlib.pyplot as plt\n",
    "\n",
    "# Creating histogram to see the distribution of recorded m/z values\n",
    "# For a given tolerance\n",
    "tolerance = 0.02\n",
    "\n",
    "histogram_data = np.array([[0,0]])\n",
    "most_commmon_mz = [0,0]\n",
    "\n",
    "# I will target the mz values between the min and max mz found incrementing by 10\n",
    "for mz in np.arange(math.floor(min_mz), math.ceil(max_mz), 0.02):\n",
    "    count = 0\n",
    "    for mzs,_,_ in my_spectra:\n",
    "        mz_mask = (mzs >= mz - tolerance) & (mzs <= mz + tolerance)\n",
    "        # mz_mask is an array of the same size as mzs and has a true where there is a an mz in mzs that is in the range\n",
    "        # If a single true is found we add the spectrum(pixel) to the count for the range we are looking for \n",
    "        if np.any(mz_mask):\n",
    "            count += 1\n",
    "            # go to next spectrum\n",
    "            continue\n",
    " \n",
    "    data = np.array([mz, count])\n",
    "    if  count > most_commmon_mz[1]:\n",
    "        most_commmon_mz = data  \n",
    "    # histogram_data = np.vstack([histogram_data, data])\n",
    "\n",
    "\n",
    "\n",
    "print(f'The most frequently occuring mz range is mz={most_commmon_mz[0]} with {most_commmon_mz[1]} spectra')\n",
    "print(f'This constitutes {(most_commmon_mz[1]/len(my_spectra))*100} % of the pixels')"
   ]
  },
  {
   "cell_type": "code",
   "execution_count": 5,
   "id": "1e0d0c28",
   "metadata": {},
   "outputs": [
    {
     "data": {
      "image/png": "[encoded data removed]",
      "text/plain": [
       "<Figure size 640x480 with 1 Axes>"
      ]
     },
     "metadata": {},
     "output_type": "display_data"
    }
   ],
   "source": [
    "plt.bar(histogram_data[1:,0], histogram_data[1:,1],width=6,color=\"g\")\n",
    "plt.xlabel('m/z')\n",
    "plt.ylabel('Frequency (Pixels found within region')\n",
    "plt.title(f'Distribution of m/z values across spectra (tolerance={tolerance})')\n",
    "plt.show()"
   ]
  }
 ],
 "metadata": {
  "kernelspec": {
   "display_name": "base",
   "language": "python",
   "name": "python3"
  },
  "language_info": {
   "codemirror_mode": {
    "name": "ipython",
    "version": 3
   },
   "file_extension": ".py",
   "mimetype": "text/x-python",
   "name": "python",
   "nbconvert_exporter": "python",
   "pygments_lexer": "ipython3",
   "version": "3.12.7"
  }
 },
 "nbformat": 4,
 "nbformat_minor": 5
}
