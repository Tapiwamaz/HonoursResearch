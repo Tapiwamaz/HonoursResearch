{
 "cells": [
  {
   "cell_type": "code",
   "execution_count": 1,
   "id": "3d5bc24d",
   "metadata": {},
   "outputs": [
    {
     "name": "stdout",
     "output_type": "stream",
     "text": [
      "Total spectra loaded: 1640\n"
     ]
    }
   ],
   "source": [
    "import numpy as np\n",
    "\n",
    "file = open(\"../Data/LPS/lps-plasma-150-1500_x.npy\",\"rb\")\n",
    "my_intensities = np.load(file)\n",
    "\n",
    "file = open(\"../Data/LPS/lps-plasma-150-1500_coords.npy\",\"rb\")\n",
    "my_coords = np.load(file)\n",
    "\n",
    "file = open(\"../Data/LPS/lps-plasma-150-1500_mzs.npy\",\"rb\")\n",
    "my_mzs = np.array(np.load(file))\n",
    "my_mzs = my_mzs[:len(my_mzs)-1]\n",
    "file.close()\n",
    "\n",
    "\n",
    "\n",
    "my_spectra = []\n",
    "\n",
    "\n",
    "# print(my_mzs))\n",
    "\n",
    "for idx in range(len(my_coords)):\n",
    "    my_spectra.append([my_intensities[idx],my_coords[idx]])\n",
    "\n",
    "\n",
    "\n",
    "print(f\"Total spectra loaded: {len(my_spectra)}\")"
   ]
  },
  {
   "cell_type": "code",
   "execution_count": 2,
   "id": "1441cd36",
   "metadata": {},
   "outputs": [],
   "source": [
    "# import matplotlib.pyplot as plt\n",
    "# # Choose the m/z you want to plot  and tolerance\n",
    "# target_mz = 160.94\n",
    "# tolerance = 1\n",
    "\n",
    "# # Get image dimensions\n",
    "# all_coords = [coord for _,  coord in my_spectra]\n",
    "# xs, ys, _ = zip(*all_coords)\n",
    "# width = max(xs) + 1\n",
    "# height = max(ys) + 1\n",
    "# print(width,height)\n",
    "# # Create empty image\n",
    "# ion_image = np.zeros((height, width))\n",
    "\n",
    "# # Process each spectrum\n",
    "# times = 0 \n",
    "# mz_mask = (my_mzs >= target_mz - tolerance) & (my_mzs <= target_mz + tolerance)\n",
    "# for  intensities,(x,y,z) in my_spectra:\n",
    "#     if np.any(mz_mask):\n",
    "#         times+=1\n",
    "#         ion_intensity = np.mean(intensities[mz_mask])\n",
    "#         ion_image[y, x] = ion_intensity\n",
    "# print(f\"Points found\", times)\n",
    "\n",
    "\n",
    "\n",
    "\n",
    "# # Plot the ion image\n",
    "# plt.figure(figsize=(8, 6))\n",
    "# plt.imshow(ion_image, cmap='viridis', origin='lower')\n",
    "# plt.colorbar(label='Ion Intensity')\n",
    "# plt.title(f\"Ion Image for m/z = {target_mz}\")\n",
    "# plt.xlabel(\"X intensity\")\n",
    "# plt.ylabel(\"Y intensity\")\n",
    "# plt.tight_layout()\n",
    "# plt.show()"
   ]
  },
  {
   "cell_type": "code",
   "execution_count": 4,
   "id": "d8c4e18f",
   "metadata": {},
   "outputs": [
    {
     "data": {
      "image/png": "[encoded data removed]",
      "text/plain": [
       "<Figure size 640x480 with 1 Axes>"
      ]
     },
     "metadata": {},
     "output_type": "display_data"
    }
   ],
   "source": [
    "import matplotlib.pyplot as plt\n",
    "\n",
    "plt.plot(my_mzs,my_spectra[16][0])\n",
    "plt.show()"
   ]
  }
 ],
 "metadata": {
  "kernelspec": {
   "display_name": "base",
   "language": "python",
   "name": "python3"
  },
  "language_info": {
   "codemirror_mode": {
    "name": "ipython",
    "version": 3
   },
   "file_extension": ".py",
   "mimetype": "text/x-python",
   "name": "python",
   "nbconvert_exporter": "python",
   "pygments_lexer": "ipython3",
   "version": "3.12.7"
  }
 },
 "nbformat": 4,
 "nbformat_minor": 5
}
