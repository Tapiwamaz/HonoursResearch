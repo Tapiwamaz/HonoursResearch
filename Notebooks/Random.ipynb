{
 "cells": [
  {
   "cell_type": "code",
   "execution_count": 16,
   "metadata": {},
   "outputs": [],
   "source": [
    "import numpy as np\n",
    "from tensorflow.keras.models import  load_model\n",
    "\n",
    "centroids = np.load(\"../Data/HIV/centroids.npy\")\n",
    "# centroids = np.array([np.round(mz, 4) for mz in centroids])\n",
    "# mzs = np.load(\"../Data/HIV/mzs.npy\")\n",
    "\n",
    "decoder = load_model(\"../Models/Decoder/decoder.keras\")\n"
   ]
  },
  {
   "cell_type": "code",
   "execution_count": null,
   "metadata": {},
   "outputs": [],
   "source": [
    "out = decoder.predict(centroids)\n",
    "del decoder\n",
    "del centroids"
   ]
  },
  {
   "cell_type": "code",
   "execution_count": null,
   "metadata": {},
   "outputs": [],
   "source": [
    "print(f\"Shape: {out.shape}\")"
   ]
  },
  {
   "cell_type": "code",
   "execution_count": null,
   "metadata": {},
   "outputs": [],
   "source": [
    "np.savetxt(\"../c1y.txt\", out[0], fmt=\"%.4f\")\n",
    "np.savetxt(\"../c2y.txt\", out[1], fmt=\"%.4f\")\n",
    "np.savetxt(\"../c3y.txt\", out[2], fmt=\"%.4f\")\n"
   ]
  },
  {
   "cell_type": "code",
   "execution_count": 6,
   "metadata": {},
   "outputs": [],
   "source": [
    "import matplotlib.pyplot as plt\n",
    "import numpy as np\n",
    "import tensorflow as tf\n",
    "from tensorflow.keras.models import Model\n",
    "from tensorflow.keras import layers\n",
    "from sklearn.model_selection import train_test_split\n",
    "from tensorflow.keras import layers\n",
    "from tensorflow.keras.models import Model\n",
    "from tensorflow.keras.callbacks import EarlyStopping\n",
    "from sklearn.metrics import mean_squared_error,root_mean_squared_error,mean_absolute_error\n",
    "\n",
    "\n",
    "\n",
    "from sklearn.model_selection import train_test_split\n",
    "\n",
    "\n",
    "\n",
    "class SpectrumAutoencoder(Model):\n",
    "    def __init__(self, latent_dim, n_peaks):\n",
    "        super(SpectrumAutoencoder, self).__init__()\n",
    "        self.latent_dim = latent_dim\n",
    "        self.n_peaks = n_peaks\n",
    "        \n",
    "        self.encoder = tf.keras.Sequential([\n",
    "            layers.Dense(5000, activation='relu'),\n",
    "            layers.Dense(1000, activation='relu'),\n",
    "            layers.Dense(latent_dim, activation='relu'),\n",
    "        ])\n",
    "\n",
    "        self.decoder = tf.keras.Sequential([\n",
    "            layers.Dense(1000, activation='relu'),\n",
    "            layers.Dense(5000, activation='relu'),\n",
    "            layers.Dense(n_peaks, activation='relu'),  \n",
    "        ])\n",
    "\n",
    "    def call(self, intensities):\n",
    "        encoded = self.encoder(intensities)\n",
    "        decoded_intensities = self.decoder(encoded)\n",
    "        return decoded_intensities"
   ]
  },
  {
   "cell_type": "code",
   "execution_count": 7,
   "metadata": {},
   "outputs": [
    {
     "name": "stdout",
     "output_type": "stream",
     "text": [
      "Training set shape: (1307, 92500)\n",
      "Test set shape: (327, 92500)\n",
      "Autoencoder created with latent_dim=500, input_dim=92500\n"
     ]
    }
   ],
   "source": [
    "X = np.load(\"../Data/LPS/sal_st_x_x.npy\")\n",
    "X_train, X_test = train_test_split(X, test_size=0.2, random_state=42)\n",
    "print(f\"Training set shape: {X_train.shape}\")\n",
    "print(f\"Test set shape: {X_test.shape}\")\n",
    "\n",
    "latent_dim = 500 \n",
    "input_dim = X_train.shape[1]  \n",
    "\n",
    "\n",
    "autoencoder = SpectrumAutoencoder(latent_dim=latent_dim, n_peaks=input_dim)\n",
    "\n",
    "autoencoder.compile(\n",
    "    optimizer='adam',\n",
    "    loss='mse',  \n",
    "    metrics=['mae','mse']  \n",
    ")\n",
    "\n",
    "print(f\"Autoencoder created with latent_dim={latent_dim}, input_dim={input_dim}\")\n"
   ]
  },
  {
   "cell_type": "code",
   "execution_count": null,
   "metadata": {},
   "outputs": [
    {
     "name": "stdout",
     "output_type": "stream",
     "text": [
      "Training data stats:\n",
      "  Shape: (1307, 92500)\n",
      "  Min: 0.000000, Max: 1.000000\n",
      "  Mean: 0.000298, Std: 0.007214\n",
      "Starting training...\n"
     ]
    },
    {
     "name": "stderr",
     "output_type": "stream",
     "text": [
      "2025-09-06 21:00:18.635073: W external/local_xla/xla/tsl/framework/cpu_allocator_impl.cc:84] Allocation of 483590000 exceeds 10% of free system memory.\n",
      "2025-09-06 21:00:19.048374: W external/local_xla/xla/tsl/framework/cpu_allocator_impl.cc:84] Allocation of 483590000 exceeds 10% of free system memory.\n",
      "2025-09-06 21:00:19.340118: W external/local_xla/xla/tsl/framework/cpu_allocator_impl.cc:84] Allocation of 1850000000 exceeds 10% of free system memory.\n",
      "2025-09-06 21:00:19.681217: W external/local_xla/xla/tsl/framework/cpu_allocator_impl.cc:84] Allocation of 1850000000 exceeds 10% of free system memory.\n",
      "2025-09-06 21:00:20.137616: W external/local_xla/xla/tsl/framework/cpu_allocator_impl.cc:84] Allocation of 1850000000 exceeds 10% of free system memory.\n"
     ]
    }
   ],
   "source": [
    "# Training the autoencoder\n",
    "early_stopping = EarlyStopping(\n",
    "    monitor='val_loss',\n",
    "    patience=3,\n",
    "    restore_best_weights=True\n",
    ")\n",
    "\n",
    "print(f\"Training data stats:\")\n",
    "print(f\"  Shape: {X_train.shape}\")\n",
    "print(f\"  Min: {X_train.min():.6f}, Max: {X_train.max():.6f}\")\n",
    "print(f\"  Mean: {X_train.mean():.6f}, Std: {X_train.std():.6f}\")\n",
    "\n",
    "\n",
    "print(\"Starting training...\")\n",
    "history = autoencoder.fit(\n",
    "    X_train, X_train,  \n",
    "    epochs=10,  \n",
    "    batch_size=32,\n",
    "    validation_data=(X_test, X_test),\n",
    "    callbacks=[early_stopping],\n",
    "    verbose=0\n",
    "\n",
    ")\n",
    "\n",
    "print(\"Training completed!\")"
   ]
  }
 ],
 "metadata": {
  "kernelspec": {
   "display_name": "Python 3",
   "language": "python",
   "name": "python3"
  },
  "language_info": {
   "codemirror_mode": {
    "name": "ipython",
    "version": 3
   },
   "file_extension": ".py",
   "mimetype": "text/x-python",
   "name": "python",
   "nbconvert_exporter": "python",
   "pygments_lexer": "ipython3",
   "version": "3.12.2"
  }
 },
 "nbformat": 4,
 "nbformat_minor": 2
}
