{
 "cells": [
  {
   "cell_type": "markdown",
   "id": "107dda63",
   "metadata": {},
   "source": [
    "# Autoencoder \n",
    "\n",
    "**Creating an AE that can learn an information rich spectral profiles embeddings to reconstruct the image/spetrum**"
   ]
  },
  {
   "cell_type": "code",
   "execution_count": 2,
   "id": "c3d0e880",
   "metadata": {},
   "outputs": [
    {
     "data": {
      "text/plain": [
       "(1640, 92500)"
      ]
     },
     "execution_count": 2,
     "metadata": {},
     "output_type": "execute_result"
    }
   ],
   "source": [
    "import numpy as np\n",
    "X = np.load('../Data/LPS/LPS_LT_1-1660_x.npy')\n",
    "X.shape\n",
    "# intensities of each spectrum"
   ]
  },
  {
   "cell_type": "markdown",
   "id": "959f541a",
   "metadata": {},
   "source": [
    "## Autoencoder Architecture for Mass Spectrometry Data\n",
    "\n",
    "This is the implementation of a baseline **Autoencoder**. The autoencoder learns to encode spectral profiles into a lower-dimensional latent space representation, then reconstructs the original spectra from these compressed embeddings.\n",
    "\n",
    "### Key Components:\n",
    "\n",
    "#### 1. **Architecture Design**\n",
    "- **Encoder**: Compresses spectral data from ~1400 peaks → 512 → 256 → 64 latent dimensions\n",
    "- **Decoder**: Reconstructs from 64 latent dimensions → 256 → 512 → 1500 peaks\n",
    "- **Activation Functions**: ReLU for hidden layers, linear output for intensity reconstruction\n",
    "\n",
    "\n",
    "\n"
   ]
  },
  {
   "cell_type": "code",
   "execution_count": 3,
   "id": "3904cf70",
   "metadata": {},
   "outputs": [],
   "source": [
    "import matplotlib.pyplot as plt\n",
    "import numpy as np\n",
    "import tensorflow as tf\n",
    "from tensorflow.keras.models import Model\n",
    "from tensorflow.keras import layers\n",
    "\n",
    "\n",
    "from sklearn.model_selection import train_test_split\n",
    "\n",
    "\n",
    "\n",
    "class SpectrumAutoencoder(Model):\n",
    "    def __init__(self, latent_dim, n_peaks):\n",
    "        super(SpectrumAutoencoder, self).__init__()\n",
    "        self.latent_dim = latent_dim\n",
    "        self.n_peaks = n_peaks\n",
    "        \n",
    "        self.encoder = tf.keras.Sequential([\n",
    "            layers.Dense(45000, activation='relu'),\n",
    "            layers.Dense(5000, activation='relu'),\n",
    "            layers.Dense(latent_dim, activation='relu'),\n",
    "        ])\n",
    "\n",
    "        self.decoder = tf.keras.Sequential([\n",
    "            layers.Dense(5000, activation='relu'),\n",
    "            layers.Dense(45000, activation='relu'),\n",
    "            layers.Dense(n_peaks, activation='relu'),  \n",
    "        ])\n",
    "\n",
    "    def call(self, intensities):\n",
    "        encoded = self.encoder(intensities)\n",
    "        decoded_intensities = self.decoder(encoded)\n",
    "        return decoded_intensities\n"
   ]
  },
  {
   "cell_type": "code",
   "execution_count": null,
   "id": "f69d62ea",
   "metadata": {},
   "outputs": [],
   "source": []
  },
  {
   "cell_type": "markdown",
   "id": "99469ca2",
   "metadata": {},
   "source": [
    "#### 3. **Training Strategy**\n",
    "- **Loss Function**: Mean Squared Error (MSE) for reconstruction fidelity\n",
    "- **Optimization**: Adam optimizer\n",
    "- **Regularization**: Early stopping to prevent overfitting\n",
    "- **Validation**: 80/20 train-test split for performance evaluation\n"
   ]
  },
  {
   "cell_type": "code",
   "execution_count": null,
   "id": "af0ab8ab",
   "metadata": {},
   "outputs": [
    {
     "name": "stdout",
     "output_type": "stream",
     "text": [
      "Training set shape: (1312, 92500)\n",
      "Test set shape: (328, 92500)\n",
      "Input dimension: 92500, Latent dimension: 500\n",
      "Autoencoder created with latent_dim=500, input_dim=92500\n"
     ]
    },
    {
     "name": "stderr",
     "output_type": "stream",
     "text": [
      "2025-08-23 17:48:13.820252: E external/local_xla/xla/stream_executor/cuda/cuda_platform.cc:51] failed call to cuInit: INTERNAL: CUDA error: Failed call to cuInit: UNKNOWN ERROR (303)\n"
     ]
    },
    {
     "ename": "",
     "evalue": "",
     "output_type": "error",
     "traceback": [
      "\u001b[1;31mThe Kernel crashed while executing code in the current cell or a previous cell. \n",
      "\u001b[1;31mPlease review the code in the cell(s) to identify a possible cause of the failure. \n",
      "\u001b[1;31mClick <a href='https://aka.ms/vscodeJupyterKernelCrash'>here</a> for more info. \n",
      "\u001b[1;31mView Jupyter <a href='command:jupyter.viewOutput'>log</a> for further details."
     ]
    }
   ],
   "source": [
    "# Split data into train and test sets\n",
    "X_train, X_test = train_test_split(X, test_size=0.2, random_state=42)\n",
    "print(f\"Training set shape: {X_train.shape}\")\n",
    "print(f\"Test set shape: {X_test.shape}\")\n",
    "\n",
    "latent_dim = 500  \n",
    "input_dim = X_train.shape[1]  \n",
    "print(f\"Input dimension: {input_dim}, Latent dimension: {latent_dim}\")\n",
    "\n",
    "autoencoder = SpectrumAutoencoder(latent_dim=latent_dim, n_peaks=input_dim)\n",
    "\n",
    "# Compile the model\n",
    "autoencoder.compile(\n",
    "    optimizer='adam',\n",
    "    loss='mse',  # Mean Squared Error for reconstruction\n",
    "    metrics=['mae','mse']  # Mean Absolute Error as additional metric\n",
    ")\n",
    "\n",
    "print(f\"Autoencoder created with latent_dim={latent_dim}, input_dim={input_dim}\")"
   ]
  },
  {
   "cell_type": "code",
   "execution_count": null,
   "id": "789f991e",
   "metadata": {},
   "outputs": [
    {
     "name": "stdout",
     "output_type": "stream",
     "text": [
      "Training data stats:\n",
      "  Shape: (1312, 92500)\n",
      "  Min: 0.000000, Max: 0.082642\n"
     ]
    }
   ],
   "source": [
    "# Training the autoencoder\n",
    "from tensorflow.keras.callbacks import EarlyStopping\n",
    "\n",
    "# If the validation loss doesn't improve for 2 epochs, stop training\n",
    "early_stopping = EarlyStopping(\n",
    "    monitor='val_loss',\n",
    "    patience=2,\n",
    "    restore_best_weights=True\n",
    ")\n",
    "\n",
    "# Check data before training\n",
    "print(f\"Training data stats:\")\n",
    "print(f\"  Shape: {X_train.shape}\")\n",
    "print(f\"  Min: {X_train.min():.6f}, Max: {X_train.max():.6f}\")\n",
    "print(f\"  Mean: {X_train.mean():.6f}, Std: {X_train.std():.6f}\")\n",
    "\n",
    "\n",
    "print(\"Starting training...\")\n",
    "history = autoencoder.fit(\n",
    "    X_train, X_train,  \n",
    "    epochs=1,  \n",
    "    batch_size=32,\n",
    "    validation_data=(X_test, X_test),\n",
    "    callbacks=[early_stopping],\n",
    "    verbose=1\n",
    "\n",
    ")\n",
    "\n",
    "print(\"Training completed!\")"
   ]
  },
  {
   "cell_type": "markdown",
   "id": "1383bc7d",
   "metadata": {},
   "source": [
    "#### 5. **Evaluation Metrics**\n",
    "- **Reconstruction Error**: MSE and MAE between original and reconstructed spectra\n",
    "- **Visual Assessment**: Direct comparison plots of original vs. reconstructed profiles"
   ]
  },
  {
   "cell_type": "code",
   "execution_count": null,
   "id": "6e41c6ab",
   "metadata": {},
   "outputs": [],
   "source": [
    "# Evaluate the model\n",
    "test_loss, test_mae,test_mse = autoencoder.evaluate(X_test, X_test, verbose=1)\n",
    "print(f\"Test Loss (MSE): {test_loss:.6f}\")\n",
    "print(f\"Test MAE: {test_mae:.6f}\")\n",
    "print(f\"Test MSE: {test_mse:.6f}\")\n",
    "\n",
    "# Plot training history\n",
    "plt.figure(figsize=(12, 4))\n",
    "\n",
    "plt.subplot(1, 2, 1)\n",
    "plt.plot(history.history['loss'], label='Training Loss')\n",
    "plt.plot(history.history['val_loss'], label='Validation Loss')\n",
    "plt.title('Model Loss')\n",
    "plt.xlabel('Epoch')\n",
    "plt.ylabel('Loss')\n",
    "plt.legend()\n",
    "\n",
    "plt.subplot(1, 2, 2)\n",
    "plt.plot(history.history['mae'], label='Training MAE')\n",
    "plt.plot(history.history['val_mae'], label='Validation MAE')\n",
    "plt.title('Model MAE')\n",
    "plt.xlabel('Epoch')\n",
    "plt.ylabel('MAE')\n",
    "plt.legend()\n",
    "\n",
    "plt.tight_layout()\n",
    "plt.show()"
   ]
  },
  {
   "cell_type": "code",
   "execution_count": null,
   "id": "4da2f951",
   "metadata": {},
   "outputs": [],
   "source": [
    "# Plot original (after preprocessing) vs reconstructed spectra\n",
    "import random\n",
    "def plot_reconstruction_comparison(autoencoder, X_test, common_mzs):\n",
    "    # Plot the 3 random samples vs thier reconstruction\n",
    "    \n",
    "    spectrum1, spectrum2, spectrum3 = random.sample(range(0,len(X_test)),3)\n",
    "    spectra_indexes = [spectrum1,spectrum2,spectrum3]\n",
    "    reconstructed = autoencoder(np.array([X_test[spectrum1],X_test[spectrum2],X_test[spectrum3]]))\n",
    "    \n",
    "    fig, axes = plt.subplots(3, 1, figsize=(12, 4*3))\n",
    "    \n",
    "    for i in range(3):\n",
    "        axes[i].plot(common_mzs, X_test[spectra_indexes[i]], label='Original', alpha=0.7)\n",
    "        axes[i].plot(common_mzs, reconstructed[i], label='Reconstructed', alpha=0.7)\n",
    "        axes[i].set_xlabel('m/z')\n",
    "        axes[i].set_ylabel('Intensity')\n",
    "        axes[i].set_title(f'Spectrum {i+1} - Reconstruction Comparison')\n",
    "        axes[i].legend()\n",
    "        axes[i].grid(True, alpha=0.3)\n",
    "    \n",
    "    plt.tight_layout()\n",
    "    plt.show()\n",
    "\n",
    "\n",
    "plot_reconstruction_comparison(autoencoder, X_test, common_mzs)\n",
    "\n",
    "reconstructed_test = autoencoder(X_test)\n",
    "reconstruction_errors = np.mean(np.square(X_test - reconstructed_test), axis=1)\n",
    "\n",
    "plt.figure(figsize=(10, 4))\n",
    "plt.subplot(1, 2, 1)\n",
    "plt.hist(reconstruction_errors, bins=30, alpha=0.7)\n",
    "plt.xlabel('Reconstruction Error (MSE)')\n",
    "plt.ylabel('Frequency')\n",
    "plt.title('Distribution of Reconstruction Errors')\n",
    "\n",
    "plt.subplot(1, 2, 2)\n",
    "plt.plot(reconstruction_errors)\n",
    "plt.xlabel('Sample Index')\n",
    "plt.ylabel('Reconstruction Error')\n",
    "plt.title('Reconstruction Error per Sample')\n",
    "plt.grid(True, alpha=0.3)\n",
    "\n",
    "plt.tight_layout()\n",
    "plt.show()\n",
    "\n",
    "print(f\"Mean reconstruction error: {np.mean(reconstruction_errors):.6f}\")"
   ]
  },
  {
   "cell_type": "code",
   "execution_count": null,
   "id": "580a1687",
   "metadata": {},
   "outputs": [],
   "source": [
    "# plot various recreations of spectra vs each other\n",
    "# plt.plot(common_mzs,X_processed[2])\n",
    "# plt.show()\n",
    "\n",
    "# # print(np.array(X_processed[0]))\n",
    "# r = autoencoder(np.array([X_processed[0]]))\n",
    "# plt.figure(figsize=(10,4))\n",
    "# plt.plot(common_mzs,r[0])\n",
    "# plt.plot(common_mzs,X_processed[0],alpha=0.5)\n",
    "\n",
    "# plt.show()\n",
    "\n",
    "# # It seems to be true that there are some spectra that are not reconstrcted well by the AE , e.g index 0,1,2\n",
    "# # My hypothesis is that such points have a low amount of the total number of mz actually recorded - high interpolation\n",
    "# len(my_spectra[20][0])\n"
   ]
  },
  {
   "cell_type": "code",
   "execution_count": null,
   "id": "03f6dbb7",
   "metadata": {},
   "outputs": [],
   "source": [
    "# I want export an array of the interopolated OG data and the reconstructed data.\n",
    "# print(X_processed.shape)\n",
    "\n",
    "# reconstructions = np.array(autoencoder(X_processed))\n",
    "\n",
    "# with open(\"HIV_Common_mzs.npy\",'wb') as file:\n",
    "#     np.save(file,common_mzs)\n",
    "\n",
    "# with open(\"HIV_OG_Normalized.npy\",'wb') as file:\n",
    "#     np.save(file,X_processed)\n",
    "\n",
    "# with open(\"HIV_Recon_Normalized.npy\",'wb') as file:\n",
    "#     np.save(file,reconstructions)\n",
    "    "
   ]
  },
  {
   "cell_type": "code",
   "execution_count": null,
   "id": "32bc8212",
   "metadata": {},
   "outputs": [],
   "source": [
    "print(np.array(reconstructions))\n"
   ]
  },
  {
   "cell_type": "code",
   "execution_count": null,
   "id": "e8d5aa50",
   "metadata": {},
   "outputs": [],
   "source": [
    "count =0\n",
    "indexes = []\n",
    "for index in range(len(my_spectra)):\n",
    "    if len(my_spectra[index][0]) < 250:\n",
    "        count+=1\n",
    "        indexes.append(index)\n",
    "print(count)\n",
    "print(len(my_spectra[indexes[3968]][0])) \n",
    "print(indexes[3968])       "
   ]
  },
  {
   "cell_type": "code",
   "execution_count": null,
   "id": "f521ae1e",
   "metadata": {},
   "outputs": [],
   "source": [
    "common_mzs"
   ]
  }
 ],
 "metadata": {
  "kernelspec": {
   "display_name": "base",
   "language": "python",
   "name": "python3"
  },
  "language_info": {
   "codemirror_mode": {
    "name": "ipython",
    "version": 3
   },
   "file_extension": ".py",
   "mimetype": "text/x-python",
   "name": "python",
   "nbconvert_exporter": "python",
   "pygments_lexer": "ipython3",
   "version": "3.12.7"
  }
 },
 "nbformat": 4,
 "nbformat_minor": 5
}
