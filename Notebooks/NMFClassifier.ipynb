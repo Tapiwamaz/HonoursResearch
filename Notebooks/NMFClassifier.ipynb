{
 "cells": [
  {
   "cell_type": "code",
   "execution_count": null,
   "id": "6d1f978d",
   "metadata": {},
   "outputs": [],
   "source": [
    "import joblib\n",
    "nmf = joblib.load(\"path/to/D1_nmf_model.joblib\")\n",
    "W_D2 = nmf.transform(D2)"
   ]
  }
 ],
 "metadata": {
  "language_info": {
   "name": "python"
  }
 },
 "nbformat": 4,
 "nbformat_minor": 5
}
