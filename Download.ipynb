{
 "cells": [
  {
   "cell_type": "markdown",
   "id": "a26df45f",
   "metadata": {},
   "source": [
    "# Downloading from the remote machine"
   ]
  },
  {
   "cell_type": "code",
   "execution_count": null,
   "id": "f305c687",
   "metadata": {},
   "outputs": [
    {
     "name": "stdout",
     "output_type": "stream",
     "text": [
      "['.cache', 'mass_spec_data', '.Xauthority', '.bash_history']\n",
      "Files downloaded successfully!\n"
     ]
    }
   ],
   "source": [
    "import paramiko\n",
    "import os\n",
    "\n",
    "# SSH/SFTP Connection\n",
    "ssh = paramiko.SSHClient()\n",
    "ssh.set_missing_host_key_policy(paramiko.AutoAddPolicy())\n",
    "ssh.connect(\n",
    "    hostname='',  # Replace with remote machine IP/hostname\n",
    "    username='tmazarura',\n",
    "    password='',  \n",
    ")\n",
    "\n",
    "# Open SFTP session\n",
    "sftp = ssh.open_sftp()\n",
    "\n",
    "# Define remote and local paths (using raw strings to handle spaces properly)\n",
    "remote_imzml = r'mass_spec_data/HIV/3 June/3 June PHRU FFPE test 1_1-115501_SN0p0_1-56679_SN1p0_centroid.imzml'\n",
    "remote_ibd = r'mass_spec_data/HIV/3 June/3 June PHRU FFPE test 1_1-115501_SN0p0_1-56679_SN1p0_centroid.ibd'\n",
    "local_imzml = 'HIV.imzML'\n",
    "local_ibd = 'HIV.ibd'\n",
    "\n",
    "# Download files\n",
    "sftp.get(remote_imzml, local_imzml)\n",
    "sftp.get(remote_ibd, local_ibd)\n",
    "\n",
    "sftp.close()\n",
    "ssh.close()\n",
    "\n",
    "print(\"Files downloaded successfully!\")"
   ]
  }
 ],
 "metadata": {
  "kernelspec": {
   "display_name": "base",
   "language": "python",
   "name": "python3"
  },
  "language_info": {
   "codemirror_mode": {
    "name": "ipython",
    "version": 3
   },
   "file_extension": ".py",
   "mimetype": "text/x-python",
   "name": "python",
   "nbconvert_exporter": "python",
   "pygments_lexer": "ipython3",
   "version": "3.12.7"
  }
 },
 "nbformat": 4,
 "nbformat_minor": 5
}
