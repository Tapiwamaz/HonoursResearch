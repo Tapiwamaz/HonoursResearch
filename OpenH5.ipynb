{
 "cells": [
  {
   "cell_type": "code",
   "execution_count": null,
   "id": "7310460c",
   "metadata": {},
   "outputs": [],
   "source": [
    "import h5py\n",
    "import hdf5plugin\n",
    "\n",
    "with h5py.File(\"Cancer.h5\",'r') as f:  # Use 'r' for read-only to avoid potential issues\n",
    "    print(f'Number of keys:', len(f.keys()))\n",
    "    print(f'Keys available:', list(f.keys()))\n",
    "    item = f.get(\"10\")\n",
    "\n",
    "    print(f'Item \"10\" found:', item)\n",
    "    print(f'Keys in item \"10\":', list(item.keys()) if hasattr(item, 'keys') else 'No keys')  \n",
    "    X = item[\"x\"]\n",
    "    Y = item[\"y\"]\n",
    "    \n",
    "    print(f'X and Y are  arrays with shapes: X={X.shape}, Y={Y.shape}')\n",
    "    print(f'X dtype: {X.dtype}, Y dtype: {Y.dtype}')\n",
    "\n",
    "    print(f'First 5 X values: {X[:5]}')\n",
    "    print(f'First 5 Y values: {Y[:5]}')"
   ]
  }
 ],
 "metadata": {
  "kernelspec": {
   "display_name": "Python 3",
   "language": "python",
   "name": "python3"
  },
  "language_info": {
   "codemirror_mode": {
    "name": "ipython",
    "version": 3
   },
   "file_extension": ".py",
   "mimetype": "text/x-python",
   "name": "python",
   "nbconvert_exporter": "python",
   "pygments_lexer": "ipython3",
   "version": "3.12.2"
  }
 },
 "nbformat": 4,
 "nbformat_minor": 5
}
