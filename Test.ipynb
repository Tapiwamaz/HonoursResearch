{
 "cells": [
  {
   "cell_type": "markdown",
   "metadata": {},
   "source": [
    "**Test File** "
   ]
  },
  {
   "cell_type": "code",
   "execution_count": 4,
   "metadata": {},
   "outputs": [
    {
     "name": "stderr",
     "output_type": "stream",
     "text": [
      "c:\\Users\\mazar\\AppData\\Local\\Programs\\Python\\Python312\\Lib\\site-packages\\pyimzml\\ontology\\ontology.py:80: UserWarning: Unrecognized accession in <cvParam>:  (name: \"\").\n",
      "  warn('Unrecognized accession in <cvParam>: %s (name: \"%s\").' % (accession, raw_name))\n",
      "c:\\Users\\mazar\\AppData\\Local\\Programs\\Python\\Python312\\Lib\\site-packages\\pyimzml\\ontology\\ontology.py:92: UserWarning: Accession IMS:1000042 found with incorrect name \"max count of pixel x\". Updating name to \"max count of pixels x\".\n",
      "  warn(\n",
      "c:\\Users\\mazar\\AppData\\Local\\Programs\\Python\\Python312\\Lib\\site-packages\\pyimzml\\ontology\\ontology.py:92: UserWarning: Accession IMS:1000043 found with incorrect name \"max count of pixel y\". Updating name to \"max count of pixels y\".\n",
      "  warn(\n",
      "c:\\Users\\mazar\\AppData\\Local\\Programs\\Python\\Python312\\Lib\\site-packages\\pyimzml\\ontology\\ontology.py:92: UserWarning: Accession IMS:1000046 found with incorrect name \"pixel size x\". Updating name to \"pixel size (x)\".\n",
      "  warn(\n"
     ]
    }
   ],
   "source": [
    "from pyimzml.ImzMLParser import ImzMLParser\n",
    "\n",
    "p = ImzMLParser('Example.imzML')\n",
    "my_spectra = []\n",
    "for idx, (x,y,z) in enumerate(p.coordinates):\n",
    "    mzs, intensities = p.getspectrum(idx)\n",
    "    my_spectra.append([mzs, intensities, (x, y, z)])\n",
    "    "
   ]
  },
  {
   "cell_type": "code",
   "execution_count": 9,
   "metadata": {},
   "outputs": [
    {
     "name": "stdout",
     "output_type": "stream",
     "text": [
      "Spectrum:  30\n",
      "msz's:  1507\n",
      "Intesities: 1507\n",
      "(x,y,z):  (30, 1, 1)\n"
     ]
    }
   ],
   "source": [
    "spectrum = 30\n",
    "print(\"Spectrum: \", spectrum)\n",
    "print(\"msz's: \",len(my_spectra[spectrum][0]))\n",
    "print(\"Intesities:\",len(my_spectra[spectrum][1]))\n",
    "print(\"(x,y,z): \", my_spectra[spectrum][2])"
   ]
  },
  {
   "cell_type": "markdown",
   "metadata": {},
   "source": [
    "**Look at the kaggle to see how to plot data an maybe get a better understanding**\n",
    "**Also look at the starred repos**"
   ]
  }
 ],
 "metadata": {
  "kernelspec": {
   "display_name": "Python 3",
   "language": "python",
   "name": "python3"
  },
  "language_info": {
   "codemirror_mode": {
    "name": "ipython",
    "version": 3
   },
   "file_extension": ".py",
   "mimetype": "text/x-python",
   "name": "python",
   "nbconvert_exporter": "python",
   "pygments_lexer": "ipython3",
   "version": "3.12.2"
  }
 },
 "nbformat": 4,
 "nbformat_minor": 2
}
