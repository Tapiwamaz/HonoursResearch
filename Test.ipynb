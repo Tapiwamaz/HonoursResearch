{
 "cells": [
  {
   "cell_type": "markdown",
   "metadata": {},
   "source": [
    "**Test File** "
   ]
  },
  {
   "cell_type": "code",
   "execution_count": null,
   "metadata": {},
   "outputs": [],
   "source": [
    "from pyimzml.ImzMLParser import ImzMLParser\n",
    "\n",
    "p = ImzMLParser('Example.imzML')\n",
    "my_spectra = []\n",
    "for idx, (x,y,z) in enumerate(p.coordinates):\n",
    "    mzs, intensities = p.getspectrum(idx)\n",
    "    my_spectra.append([mzs, intensities, (x, y, z)])\n",
    "    # ...\n",
    "\n",
    "from pyimzml.ImzMLWriter import ImzMLWriter\n",
    "\n",
    "with ImzMLWriter('output.imzML', polarity='positive') as w:\n",
    "    for mzs, intensities, coords in my_spectra:\n",
    "        # writes data to the .ibd file\n",
    "        w.addSpectrum(mzs, intensities, coords)\n",
    "# at this point imzML file is written and files are closed"
   ]
  }
 ],
 "metadata": {
  "language_info": {
   "name": "python"
  }
 },
 "nbformat": 4,
 "nbformat_minor": 2
}
