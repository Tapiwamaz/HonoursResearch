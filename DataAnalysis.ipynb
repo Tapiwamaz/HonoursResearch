{
 "cells": [
  {
   "cell_type": "markdown",
   "id": "c5922880",
   "metadata": {},
   "source": [
    "# Data Analysis\n",
    "**Some information about the data**"
   ]
  },
  {
   "cell_type": "code",
   "execution_count": 1,
   "id": "7113319d",
   "metadata": {},
   "outputs": [],
   "source": [
    "from pyimzml.ImzMLParser import ImzMLParser\n",
    "\n",
    "p = ImzMLParser('Cancer.imzml')\n",
    "my_spectra = []\n",
    "for idx, (x,y,z) in enumerate(p.coordinates):\n",
    "    mzs, intensities = p.getspectrum(idx)\n",
    "    my_spectra.append([mzs, intensities, (x, y, z)])"
   ]
  },
  {
   "cell_type": "code",
   "execution_count": 7,
   "id": "4714348d",
   "metadata": {},
   "outputs": [
    {
     "name": "stdout",
     "output_type": "stream",
     "text": [
      "Range of mz values: (100.00021, 1499.9867)\n",
      "Range of intensities values: (457.20508, 6927808.0)\n",
      "Number of spectrum: 160000\n"
     ]
    }
   ],
   "source": [
    "# Min of max  recorded mzs and intensities\n",
    "max_mz = -float('inf')\n",
    "max_intensity = -float('inf')\n",
    "min_mz = float('inf')\n",
    "min_intensity = float('inf')\n",
    "for spectrum in my_spectra:\n",
    "    max_mz = max(max(spectrum[0]),max_mz)\n",
    "    min_mz = min(min(spectrum[0]),min_mz)\n",
    "    max_intensity = max(max(spectrum[1]),max_intensity)\n",
    "    min_intensity = min(min(spectrum[1]),min_intensity)\n",
    "\n",
    "print(f'Range of mz values:',(min_mz,max_mz))\n",
    "print(f'Range of intensities values:',(min_intensity,max_intensity))\n",
    "print(f'Number of spectrum:',len(my_spectra))\n",
    "\n"
   ]
  },
  {
   "cell_type": "code",
   "execution_count": 49,
   "id": "535b8aa5",
   "metadata": {},
   "outputs": [
    {
     "name": "stdout",
     "output_type": "stream",
     "text": [
      "[[    0     0]\n",
      " [  100 95204]\n",
      " [  200 45389]\n",
      " [  300 10740]\n",
      " [  400 32035]\n",
      " [  500 14063]\n",
      " [  600  7877]\n",
      " [  700 39646]\n",
      " [  800  5261]\n",
      " [  900   269]\n",
      " [ 1000   565]\n",
      " [ 1100   949]\n",
      " [ 1200   297]\n",
      " [ 1300   203]\n",
      " [ 1400   165]]\n"
     ]
    }
   ],
   "source": [
    "import numpy as np\n",
    "import matplotlib.pyplot as plt\n",
    "\n",
    "# Creating histogram to see the distribution of recorded m/z values\n",
    "# For a given tolerance\n",
    "\n",
    "tolerance = 0.1\n",
    "target_mz = 146\n",
    "\n",
    "# I want to capture all the pixels\n",
    "# What i want to do is to go through the spectrums mz array add to the count if there is one mz value in the proposed range\n",
    "histogram_data = np.array([[0,0]])\n",
    "\n",
    "for mz in range(100,1500,100):\n",
    "    count = 0\n",
    "    for mzs,_,_ in my_spectra:\n",
    "        mz_mask = (mzs >= mz - tolerance) & (mzs <= mz + tolerance)\n",
    "        if np.any(mz_mask):\n",
    "            count += 1\n",
    "            # go to next spectrum\n",
    "            continue\n",
    "    data = np.array([[mz, count]])\n",
    "    histogram_data = np.vstack([histogram_data, data])\n",
    "print(histogram_data)\n",
    "    # plt.hist()\n",
    "\n"
   ]
  },
  {
   "cell_type": "code",
   "execution_count": 50,
   "id": "1e0d0c28",
   "metadata": {},
   "outputs": [
    {
     "data": {
      "image/png": "[encoded data removed]",
      "text/plain": [
       "<Figure size 640x480 with 1 Axes>"
      ]
     },
     "metadata": {},
     "output_type": "display_data"
    }
   ],
   "source": [
    "plt.bar(histogram_data[:,0], histogram_data[:,1],width=50)\n",
    "plt.xlabel('m/z')\n",
    "plt.ylabel('Count')\n",
    "plt.title('Distribution of m/z values across spectra')\n",
    "plt.show()"
   ]
  }
 ],
 "metadata": {
  "kernelspec": {
   "display_name": "base",
   "language": "python",
   "name": "python3"
  },
  "language_info": {
   "codemirror_mode": {
    "name": "ipython",
    "version": 3
   },
   "file_extension": ".py",
   "mimetype": "text/x-python",
   "name": "python",
   "nbconvert_exporter": "python",
   "pygments_lexer": "ipython3",
   "version": "3.12.7"
  }
 },
 "nbformat": 4,
 "nbformat_minor": 5
}
